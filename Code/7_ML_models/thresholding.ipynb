{
 "cells": [
  {
   "cell_type": "markdown",
   "metadata": {},
   "source": [
    "# Thresholding\n",
    "\n",
    "This notebook will show the tours whilst adjusting the threshold value.\n",
    "\n",
    "Each edge has a probability of being in the final tour. By adjusting this threshold, we can adjust the amount of true edges are in the tour."
   ]
  },
  {
   "cell_type": "code",
   "execution_count": null,
   "metadata": {},
   "outputs": [],
   "source": [
    "import pandas as pd\n",
    "import numpy as np\n",
    "import pickle\n",
    "import os\n",
    "\n",
    "os.environ['PROJ_LIB'] = os.environ['CONDA_PREFIX'] + '\\\\Library\\\\share' # bug fix with anaconda and basemap\n",
    "from mpl_toolkits.basemap import Basemap\n",
    "import matplotlib.pyplot as plt\n",
    "\n",
    "from sklearn.naive_bayes import GaussianNB\n",
    "from sklearn.ensemble import RandomForestClassifier\n",
    "from sklearn.linear_model import LogisticRegression\n",
    "\n",
    "import joblib\n",
    "\n",
    "import model_utils as M\n",
    "\n",
    "%matplotlib inline"
   ]
  },
  {
   "cell_type": "code",
   "execution_count": null,
   "metadata": {},
   "outputs": [],
   "source": [
    "set_idx = 1 # This variable allows you to preview different tours within the test set.\n",
    "THRESHOLD = 0.2 # Threshold for all the tours."
   ]
  },
  {
   "cell_type": "markdown",
   "metadata": {},
   "source": [
    "Load in the models."
   ]
  },
  {
   "cell_type": "code",
   "execution_count": null,
   "metadata": {},
   "outputs": [],
   "source": [
    "TSP_NB = joblib.load('Models/TSP_NB_model.pkl')\n",
    "TSP_LR = joblib.load('Models/TSP_LR_model.pkl')\n",
    "TSP_RF = joblib.load('Models/TSP_RF_model.pkl')"
   ]
  },
  {
   "cell_type": "markdown",
   "metadata": {},
   "source": [
    "Import the data and split into Training and Testing sets."
   ]
  },
  {
   "cell_type": "code",
   "execution_count": null,
   "metadata": {},
   "outputs": [],
   "source": [
    "DATA_DIR = '../6_feature_engineering/Feature_Dataset/'\n",
    "data_files = [i for i in os.listdir(DATA_DIR) if i.endswith('.csv')]\n",
    "data_files.sort()\n",
    "df_TSP_list = [pd.read_csv(DATA_DIR + file) for file in data_files]\n",
    "\n",
    "for i in range(len(df_TSP_list)):\n",
    "    # Convert booleans to int\n",
    "    df_TSP_list[i] = df_TSP_list[i].astype({'IS_IN_1ST_QUARTILE': 'int64',\n",
    "                                            'IS_IN_2ND_QUARTILE': 'int64',\n",
    "                                            'IS_IN_3RD_QUARTILE': 'int64',\n",
    "                                            'EDGE_IN_SOL': 'int64'})\n",
    "    df_TSP_list[i] = df_TSP_list[i].reset_index(drop=True)\n",
    "    \n",
    "df_TSP_list[0].head()"
   ]
  },
  {
   "cell_type": "code",
   "execution_count": null,
   "metadata": {},
   "outputs": [],
   "source": [
    "train_set = df_TSP_list[:5]\n",
    "test_set = df_TSP_list[5:]\n",
    "\n",
    "print(\"Train Data Graphs:\\t{}\".format(len(train_set)))\n",
    "print(\"Test Data Graphs:\\t{}\".format(len(test_set)))"
   ]
  },
  {
   "cell_type": "markdown",
   "metadata": {},
   "source": [
    "Load in the coordinate data."
   ]
  },
  {
   "cell_type": "code",
   "execution_count": null,
   "metadata": {},
   "outputs": [],
   "source": [
    "COORD_DATA_DIR = '../5_ground_truth/Final_Dataset/'\n",
    "coord_datafiles = [i for i in os.listdir(COORD_DATA_DIR) if i.endswith('.csv')]\n",
    "coord_datafiles.sort()\n",
    "\n",
    "df_coord_list = [pd.read_csv(COORD_DATA_DIR + file) for file in coord_datafiles]\n",
    "\n",
    "for i in range(len(df_coord_list)):\n",
    "    df_coord_list[i]['NODE1_COORDS'] = df_coord_list[i]['NODE1_COORDS'].apply(eval)\n",
    "    df_coord_list[i]['NODE2_COORDS'] = df_coord_list[i]['NODE2_COORDS'].apply(eval)\n",
    "\n",
    "    \n",
    "coords_train_list = df_coord_list[:5]\n",
    "coords_test_list = df_coord_list[5:]\n",
    "\n",
    "coords_test_list[set_idx].head()"
   ]
  },
  {
   "cell_type": "markdown",
   "metadata": {},
   "source": [
    "Find the bounds of the data."
   ]
  },
  {
   "cell_type": "code",
   "execution_count": null,
   "metadata": {},
   "outputs": [],
   "source": [
    "PUBS_DATA = '../1_pubs_crawler/pubs.csv'\n",
    "\n",
    "df_pubs = pd.read_csv(PUBS_DATA)\n",
    "df_pubs\n",
    "\n",
    "BBox = ((df_pubs.longitude.min(), df_pubs.longitude.max(),\n",
    "         df_pubs.latitude.min(), df_pubs.latitude.max()))\n",
    "BBox"
   ]
  },
  {
   "cell_type": "markdown",
   "metadata": {},
   "source": [
    "Define the function to plot the tours."
   ]
  },
  {
   "cell_type": "code",
   "execution_count": null,
   "metadata": {},
   "outputs": [],
   "source": [
    "def plot_tour(node_1_coords, node_2_coords, ground_truth=None):\n",
    "    fig = plt.figure(figsize=(12,9))\n",
    "\n",
    "    m = Basemap(projection='mill',\n",
    "                llcrnrlat=BBox[2],\n",
    "                urcrnrlat=BBox[3],\n",
    "                llcrnrlon=BBox[0],\n",
    "                urcrnrlon=BBox[1],\n",
    "                resolution='i')\n",
    "\n",
    "    m.drawcoastlines()\n",
    "\n",
    "    for i in range(len(node_1_coords)):\n",
    "        longs = []\n",
    "        lats = []\n",
    "        coord1 = node_1_coords.iloc[i]\n",
    "        coord2 = node_2_coords.iloc[i]\n",
    "        longs.append(coord1[1])\n",
    "        lats.append(coord1[0])\n",
    "        longs.append(coord2[1])\n",
    "        lats.append(coord2[0])\n",
    "        if ground_truth is None:\n",
    "            m.plot(longs, lats, latlon=True, color='red', linewidth=1, marker='o', markersize=2, markerfacecolor='blue')\n",
    "        else:\n",
    "            if ground_truth.iloc[i]:  # If this edge is a part of the ground truth\n",
    "                m.plot(longs, lats, latlon=True, color='blue', linewidth=1, marker='o', markersize=2, markerfacecolor='blue')\n",
    "            else:\n",
    "                m.plot(longs, lats, latlon=True, color='red', linewidth=1, marker='o', markersize=2, markerfacecolor='blue')\n",
    "\n",
    "    plt.title(\"\")\n",
    "    plt.show()"
   ]
  },
  {
   "cell_type": "markdown",
   "metadata": {},
   "source": [
    "## Ground Truth Tour"
   ]
  },
  {
   "cell_type": "code",
   "execution_count": null,
   "metadata": {},
   "outputs": [],
   "source": [
    "df_ground_truth = coords_test_list[set_idx][coords_test_list[set_idx]['EDGE_IN_SOL']]\n",
    "df_ground_truth.head()"
   ]
  },
  {
   "cell_type": "code",
   "execution_count": null,
   "metadata": {},
   "outputs": [],
   "source": [
    "plot_tour(df_ground_truth['NODE1_COORDS'], df_ground_truth['NODE2_COORDS'], df_ground_truth['EDGE_IN_SOL'])"
   ]
  },
  {
   "cell_type": "markdown",
   "metadata": {},
   "source": [
    "## Naïve Bayes tour"
   ]
  },
  {
   "cell_type": "code",
   "execution_count": null,
   "metadata": {},
   "outputs": [],
   "source": [
    "cols = test_set[set_idx].columns[:-1]  # Every column except the last one\n",
    "X = test_set[set_idx][cols].values\n",
    "\n",
    "RF_thresh_tour = M.threshold_tour(X, coords_test_list[set_idx], TSP_NB, threshold=THRESHOLD)\n",
    "plot_tour(RF_thresh_tour['NODE1_COORDS'], RF_thresh_tour['NODE2_COORDS'], RF_thresh_tour['EDGE_IN_SOL'])"
   ]
  },
  {
   "cell_type": "markdown",
   "metadata": {},
   "source": [
    "## Logisitc Regression Tour"
   ]
  },
  {
   "cell_type": "code",
   "execution_count": null,
   "metadata": {},
   "outputs": [],
   "source": [
    "cols = test_set[set_idx].columns[:-1]  # Every column except the last one\n",
    "X = test_set[set_idx][cols].values\n",
    "\n",
    "RF_thresh_tour = M.threshold_tour(X, coords_test_list[set_idx], TSP_LR, threshold=THRESHOLD)\n",
    "plot_tour(RF_thresh_tour['NODE1_COORDS'], RF_thresh_tour['NODE2_COORDS'], RF_thresh_tour['EDGE_IN_SOL'])"
   ]
  },
  {
   "cell_type": "markdown",
   "metadata": {},
   "source": [
    "## Random Forest Tour"
   ]
  },
  {
   "cell_type": "code",
   "execution_count": null,
   "metadata": {},
   "outputs": [],
   "source": [
    "cols = test_set[set_idx].columns[:-1]  # Every column except the last one\n",
    "X = test_set[set_idx][cols].values\n",
    "\n",
    "RF_thresh_tour = M.threshold_tour(X, coords_test_list[set_idx], TSP_RF, threshold=THRESHOLD)\n",
    "plot_tour(RF_thresh_tour['NODE1_COORDS'], RF_thresh_tour['NODE2_COORDS'], RF_thresh_tour['EDGE_IN_SOL'])"
   ]
  }
 ],
 "metadata": {
  "kernelspec": {
   "display_name": "Python 3",
   "language": "python",
   "name": "python3"
  },
  "language_info": {
   "codemirror_mode": {
    "name": "ipython",
    "version": 3
   },
   "file_extension": ".py",
   "mimetype": "text/x-python",
   "name": "python",
   "nbconvert_exporter": "python",
   "pygments_lexer": "ipython3",
   "version": "3.7.4"
  }
 },
 "nbformat": 4,
 "nbformat_minor": 4
}
