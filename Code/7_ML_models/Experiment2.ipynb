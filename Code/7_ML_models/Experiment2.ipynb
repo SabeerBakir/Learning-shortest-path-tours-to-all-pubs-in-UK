{
 "cells": [
  {
   "cell_type": "markdown",
   "metadata": {},
   "source": [
    "# Precision vs. Prune Ratio\n",
    "\n",
    "This notebook will look at how the threshold value effects the prune ratio and precision in the tour predicted by a model."
   ]
  },
  {
   "cell_type": "code",
   "execution_count": null,
   "metadata": {},
   "outputs": [],
   "source": [
    "import pandas as pd\n",
    "import numpy as np\n",
    "import pickle\n",
    "import os\n",
    "\n",
    "from sklearn.naive_bayes import GaussianNB\n",
    "from sklearn.ensemble import RandomForestClassifier\n",
    "from sklearn.linear_model import LogisticRegression\n",
    "\n",
    "import joblib\n",
    "import model_utils as M\n",
    "\n",
    "import seaborn as sns\n",
    "import matplotlib.pyplot as plt"
   ]
  },
  {
   "cell_type": "markdown",
   "metadata": {},
   "source": [
    "Load in the models."
   ]
  },
  {
   "cell_type": "code",
   "execution_count": null,
   "metadata": {},
   "outputs": [],
   "source": [
    "TSP_NB = joblib.load('Models/TSP_NB_model.pkl')\n",
    "TSP_LR = joblib.load('Models/TSP_LR_model.pkl')\n",
    "TSP_RF = joblib.load('Models/TSP_RF_model.pkl')"
   ]
  },
  {
   "cell_type": "markdown",
   "metadata": {},
   "source": [
    "Load the test data."
   ]
  },
  {
   "cell_type": "code",
   "execution_count": null,
   "metadata": {},
   "outputs": [],
   "source": [
    "DATA_DIR = '../6_feature_engineering/Feature_Dataset/'\n",
    "data_files = [i for i in os.listdir(DATA_DIR) if i.endswith('.csv')]\n",
    "data_files.sort()\n",
    "df_TSP_list = [pd.read_csv(DATA_DIR + file) for file in data_files]\n",
    "\n",
    "for i in range(len(df_TSP_list)):\n",
    "    # Convert booleans to int\n",
    "    df_TSP_list[i] = df_TSP_list[i].astype({'IS_IN_1ST_QUARTILE': 'int64',\n",
    "                                            'IS_IN_2ND_QUARTILE': 'int64',\n",
    "                                            'IS_IN_3RD_QUARTILE': 'int64',\n",
    "                                            'EDGE_IN_SOL': 'int64'})\n",
    "    df_TSP_list[i] = df_TSP_list[i].reset_index(drop=True)\n",
    "    \n",
    "train_set = df_TSP_list[:5]\n",
    "test_set = df_TSP_list[5:]\n",
    "\n",
    "test_set[0].shape"
   ]
  },
  {
   "cell_type": "markdown",
   "metadata": {},
   "source": [
    "Load the coordinates for the test data."
   ]
  },
  {
   "cell_type": "code",
   "execution_count": null,
   "metadata": {},
   "outputs": [],
   "source": [
    "COORD_DATA_DIR = '../5_ground_truth/Final_Dataset/'\n",
    "coord_datafiles = [i for i in os.listdir(COORD_DATA_DIR) if i.endswith('.csv')]\n",
    "coord_datafiles.sort()\n",
    "\n",
    "df_coord_list = [pd.read_csv(COORD_DATA_DIR + file) for file in coord_datafiles]\n",
    "\n",
    "for i in range(len(df_coord_list)):\n",
    "    df_coord_list[i]['NODE1_COORDS'] = df_coord_list[i]['NODE1_COORDS'].apply(eval)\n",
    "    df_coord_list[i]['NODE2_COORDS'] = df_coord_list[i]['NODE2_COORDS'].apply(eval)\n",
    "\n",
    "train_coords = df_coord_list[:5]\n",
    "test_coords = df_coord_list[5:]\n",
    "\n",
    "test_coords[0].shape"
   ]
  },
  {
   "cell_type": "markdown",
   "metadata": {},
   "source": [
    "Constant Variables."
   ]
  },
  {
   "cell_type": "code",
   "execution_count": null,
   "metadata": {},
   "outputs": [],
   "source": [
    "set_num = 0 # For changing between different test graphs\n",
    "cols = test_set[set_num].columns[:-1]  # Every column except the last one"
   ]
  },
  {
   "cell_type": "markdown",
   "metadata": {},
   "source": [
    "## Naïve Bayes: Prune Ratio vs. Precision"
   ]
  },
  {
   "cell_type": "code",
   "execution_count": null,
   "metadata": {},
   "outputs": [],
   "source": [
    "step = 0.05 # size between threshold values"
   ]
  },
  {
   "cell_type": "code",
   "execution_count": null,
   "metadata": {},
   "outputs": [],
   "source": [
    "NB_precisions = np.array([])\n",
    "NB_prune_ratio = np.array([])\n",
    "\n",
    "\n",
    "X = test_set[set_num][cols].values\n",
    "\n",
    "for t in np.arange(0, 1+step, step):\n",
    "    tour = M.threshold_tour(X, test_coords[set_num], TSP_NB, threshold=t)\n",
    "    NB_precisions = np.append(NB_precisions, M.precision(tour))\n",
    "    NB_prune_ratio = np.append(NB_prune_ratio, M.prune_ratio(tour, test_coords[set_num].shape[0]))\n",
    "\n",
    "print(\"Naïve Bayes\")\n",
    "print(\"Precision: {}\".format(NB_precisions))\n",
    "print(\"Prune ratio: {}\".format(NB_prune_ratio))"
   ]
  },
  {
   "cell_type": "code",
   "execution_count": null,
   "metadata": {},
   "outputs": [],
   "source": [
    "df = pd.DataFrame({\"NB precisions\": 1 - NB_precisions, \n",
    "                   \"NB prune ratio\": NB_prune_ratio})\n",
    "\n",
    "\n",
    "ax = sns.lineplot(x=\"NB precisions\", y=\"NB prune ratio\", data=df)\n",
    "#ax.figure.legend()\n",
    "ax.set_xlabel('Precision')\n",
    "ax.set_ylabel('Non-Pruning Ratio')\n",
    "\n",
    "plt.title(\"Naïve Bayes: Non-Pruning Ratio vs. Precision (Graph {})\".format(set_num))\n",
    "\n",
    "plt.savefig('exp2/NB non-prune vs precision {}.pdf'.format(set_num))\n",
    "plt.show()"
   ]
  },
  {
   "cell_type": "markdown",
   "metadata": {},
   "source": [
    "## Logistic Regression: Prune Ratio vs. Precision"
   ]
  },
  {
   "cell_type": "code",
   "execution_count": null,
   "metadata": {},
   "outputs": [],
   "source": [
    "LR_precisions = np.array([])\n",
    "LR_prune_ratio = np.array([])\n",
    "\n",
    "\n",
    "X = test_set[set_num][cols].values\n",
    "\n",
    "for t in np.arange(0, 1+step, step):\n",
    "    tour = M.threshold_tour(X, test_coords[set_num], TSP_LR, threshold=t)\n",
    "    LR_precisions = np.append(LR_precisions, M.precision(tour))\n",
    "    LR_prune_ratio = np.append(LR_prune_ratio, M.prune_ratio(tour, test_coords[set_num].shape[0]))\n",
    "\n",
    "print(\"Logistic Regression\")\n",
    "print(\"Precision: {}\".format(LR_precisions))\n",
    "print(\"Prune ratio: {}\".format(LR_prune_ratio))"
   ]
  },
  {
   "cell_type": "code",
   "execution_count": null,
   "metadata": {},
   "outputs": [],
   "source": [
    "df = pd.DataFrame({\"LR precisions\": 1 - LR_precisions, \n",
    "                   \"LR prune ratio\": LR_prune_ratio})\n",
    "\n",
    "\n",
    "ax = sns.lineplot(x=\"LR precisions\", y=\"LR prune ratio\", data=df)\n",
    "#ax.figure.legend()\n",
    "ax.set_xlabel('Precision')\n",
    "ax.set_ylabel('Non-Pruning Ratio')\n",
    "\n",
    "plt.title(\"Logistic Regression: Non-Pruning Ratio vs. Precision (Graph {})\".format(set_num))\n",
    "\n",
    "plt.savefig('exp2/LR non-prune vs precision {}.pdf'.format(set_num))\n",
    "plt.show()"
   ]
  },
  {
   "cell_type": "markdown",
   "metadata": {},
   "source": [
    "## Random Forest: Prune Ratio vs. Precision"
   ]
  },
  {
   "cell_type": "code",
   "execution_count": null,
   "metadata": {},
   "outputs": [],
   "source": [
    "RF_precisions = np.array([])\n",
    "RF_prune_ratio = np.array([])\n",
    "\n",
    "\n",
    "X = test_set[set_num][cols].values\n",
    "\n",
    "for t in np.arange(0, 1+step, step):\n",
    "    tour = M.threshold_tour(X, test_coords[set_num], TSP_RF, threshold=t)\n",
    "    RF_precisions = np.append(RF_precisions, M.precision(tour))\n",
    "    RF_prune_ratio = np.append(RF_prune_ratio, M.prune_ratio(tour, test_coords[set_num].shape[0]))\n",
    "\n",
    "print(\"Random Forest\")\n",
    "print(\"Precision: {}\".format(RF_precisions))\n",
    "print(\"Prune ratio: {}\".format(RF_prune_ratio))"
   ]
  },
  {
   "cell_type": "code",
   "execution_count": null,
   "metadata": {},
   "outputs": [],
   "source": [
    "df = pd.DataFrame({\"RF precisions\": 1 - RF_precisions, \n",
    "                   \"RF prune ratio\": RF_prune_ratio})\n",
    "\n",
    "\n",
    "ax = sns.lineplot(x=\"RF precisions\", y=\"RF prune ratio\", data=df)\n",
    "#ax.figure.legend()\n",
    "ax.set_xlabel('Precision')\n",
    "ax.set_ylabel('Non-Pruning Ratio')\n",
    "\n",
    "plt.title(\"Random Forest: Non-Pruning Ratio vs. Precision (Graph {})\".format(set_num))\n",
    "\n",
    "plt.savefig('exp2/RF non-prune vs precision {}.pdf'.format(set_num))\n",
    "plt.show()"
   ]
  }
 ],
 "metadata": {
  "kernelspec": {
   "display_name": "Python 3",
   "language": "python",
   "name": "python3"
  },
  "language_info": {
   "codemirror_mode": {
    "name": "ipython",
    "version": 3
   },
   "file_extension": ".py",
   "mimetype": "text/x-python",
   "name": "python",
   "nbconvert_exporter": "python",
   "pygments_lexer": "ipython3",
   "version": "3.7.4"
  }
 },
 "nbformat": 4,
 "nbformat_minor": 4
}
