{
 "cells": [
  {
   "cell_type": "markdown",
   "metadata": {},
   "source": [
    "# ML Models\n",
    "\n",
    "This notebook will create Machine Learning models and test their performance."
   ]
  },
  {
   "cell_type": "code",
   "execution_count": 1,
   "metadata": {},
   "outputs": [],
   "source": [
    "import pandas as pd\n",
    "import numpy as np\n",
    "import pickle\n",
    "import os\n",
    "\n",
    "os.environ['PROJ_LIB'] = os.environ['CONDA_PREFIX'] + '\\\\Library\\\\share' # bug fix with anaconda and basemap\n",
    "from mpl_toolkits.basemap import Basemap\n",
    "import matplotlib.pyplot as plt\n",
    "\n",
    "from sklearn.naive_bayes import GaussianNB\n",
    "from sklearn.ensemble import RandomForestClassifier\n",
    "from sklearn.linear_model import LogisticRegression\n",
    "\n",
    "from sklearn.model_selection import train_test_split\n",
    "from sklearn.metrics import confusion_matrix, accuracy_score\n",
    "from sklearn.metrics import classification_report\n",
    "\n",
    "\n",
    "from sklearn.model_selection import GridSearchCV\n",
    "from sklearn.model_selection import RandomizedSearchCV\n",
    "\n",
    "import joblib\n",
    "\n",
    "import model_utils as M\n",
    "\n",
    "%matplotlib inline"
   ]
  },
  {
   "cell_type": "markdown",
   "metadata": {},
   "source": [
    "Import the data and split into Training and Testing sets."
   ]
  },
  {
   "cell_type": "code",
   "execution_count": 2,
   "metadata": {},
   "outputs": [
    {
     "data": {
      "text/html": [
       "<div>\n",
       "<style scoped>\n",
       "    .dataframe tbody tr th:only-of-type {\n",
       "        vertical-align: middle;\n",
       "    }\n",
       "\n",
       "    .dataframe tbody tr th {\n",
       "        vertical-align: top;\n",
       "    }\n",
       "\n",
       "    .dataframe thead th {\n",
       "        text-align: right;\n",
       "    }\n",
       "</style>\n",
       "<table border=\"1\" class=\"dataframe\">\n",
       "  <thead>\n",
       "    <tr style=\"text-align: right;\">\n",
       "      <th></th>\n",
       "      <th>DISTANCE_KM</th>\n",
       "      <th>Local Rank Incident to Node1</th>\n",
       "      <th>Local Rank Incident to Node2</th>\n",
       "      <th>GLOBAL_RANK</th>\n",
       "      <th>IS_IN_1ST_QUARTILE</th>\n",
       "      <th>IS_IN_2ND_QUARTILE</th>\n",
       "      <th>IS_IN_3RD_QUARTILE</th>\n",
       "      <th>EDGE_IN_SOL</th>\n",
       "    </tr>\n",
       "  </thead>\n",
       "  <tbody>\n",
       "    <tr>\n",
       "      <td>0</td>\n",
       "      <td>108</td>\n",
       "      <td>183</td>\n",
       "      <td>246</td>\n",
       "      <td>83596</td>\n",
       "      <td>1</td>\n",
       "      <td>1</td>\n",
       "      <td>1</td>\n",
       "      <td>0</td>\n",
       "    </tr>\n",
       "    <tr>\n",
       "      <td>1</td>\n",
       "      <td>384</td>\n",
       "      <td>926</td>\n",
       "      <td>780</td>\n",
       "      <td>396911</td>\n",
       "      <td>0</td>\n",
       "      <td>0</td>\n",
       "      <td>0</td>\n",
       "      <td>0</td>\n",
       "    </tr>\n",
       "    <tr>\n",
       "      <td>2</td>\n",
       "      <td>11</td>\n",
       "      <td>3</td>\n",
       "      <td>2</td>\n",
       "      <td>2752</td>\n",
       "      <td>1</td>\n",
       "      <td>1</td>\n",
       "      <td>1</td>\n",
       "      <td>0</td>\n",
       "    </tr>\n",
       "    <tr>\n",
       "      <td>3</td>\n",
       "      <td>168</td>\n",
       "      <td>346</td>\n",
       "      <td>461</td>\n",
       "      <td>156459</td>\n",
       "      <td>0</td>\n",
       "      <td>1</td>\n",
       "      <td>1</td>\n",
       "      <td>0</td>\n",
       "    </tr>\n",
       "    <tr>\n",
       "      <td>4</td>\n",
       "      <td>402</td>\n",
       "      <td>954</td>\n",
       "      <td>771</td>\n",
       "      <td>406968</td>\n",
       "      <td>0</td>\n",
       "      <td>0</td>\n",
       "      <td>0</td>\n",
       "      <td>0</td>\n",
       "    </tr>\n",
       "  </tbody>\n",
       "</table>\n",
       "</div>"
      ],
      "text/plain": [
       "   DISTANCE_KM  Local Rank Incident to Node1  Local Rank Incident to Node2  \\\n",
       "0          108                           183                           246   \n",
       "1          384                           926                           780   \n",
       "2           11                             3                             2   \n",
       "3          168                           346                           461   \n",
       "4          402                           954                           771   \n",
       "\n",
       "   GLOBAL_RANK  IS_IN_1ST_QUARTILE  IS_IN_2ND_QUARTILE  IS_IN_3RD_QUARTILE  \\\n",
       "0        83596                   1                   1                   1   \n",
       "1       396911                   0                   0                   0   \n",
       "2         2752                   1                   1                   1   \n",
       "3       156459                   0                   1                   1   \n",
       "4       406968                   0                   0                   0   \n",
       "\n",
       "   EDGE_IN_SOL  \n",
       "0            0  \n",
       "1            0  \n",
       "2            0  \n",
       "3            0  \n",
       "4            0  "
      ]
     },
     "execution_count": 2,
     "metadata": {},
     "output_type": "execute_result"
    }
   ],
   "source": [
    "DATA_DIR = '../6_feature_engineering/Feature_Dataset/'\n",
    "data_files = [i for i in os.listdir(DATA_DIR) if i.endswith('.csv')]\n",
    "data_files.sort()\n",
    "df_TSP_list = [pd.read_csv(DATA_DIR + file) for file in data_files]\n",
    "\n",
    "for i in range(len(df_TSP_list)):\n",
    "    # Convert booleans to int\n",
    "    df_TSP_list[i] = df_TSP_list[i].astype({'IS_IN_1ST_QUARTILE': 'int64',\n",
    "                                            'IS_IN_2ND_QUARTILE': 'int64',\n",
    "                                            'IS_IN_3RD_QUARTILE': 'int64',\n",
    "                                            'EDGE_IN_SOL': 'int64'})\n",
    "    df_TSP_list[i] = df_TSP_list[i].reset_index(drop=True)\n",
    "    \n",
    "df_TSP_list[0].head()"
   ]
  },
  {
   "cell_type": "markdown",
   "metadata": {},
   "source": [
    "`1` is True and `0` is False."
   ]
  },
  {
   "cell_type": "code",
   "execution_count": 3,
   "metadata": {},
   "outputs": [
    {
     "name": "stdout",
     "output_type": "stream",
     "text": [
      "Train Data Graphs:\t5\n",
      "Test Data Graphs:\t5\n"
     ]
    }
   ],
   "source": [
    "train_set = df_TSP_list[:5]\n",
    "test_set = df_TSP_list[5:]\n",
    "\n",
    "print(\"Train Data Graphs:\\t{}\".format(len(train_set)))\n",
    "print(\"Test Data Graphs:\\t{}\".format(len(test_set)))"
   ]
  },
  {
   "cell_type": "code",
   "execution_count": 4,
   "metadata": {},
   "outputs": [
    {
     "name": "stdout",
     "output_type": "stream",
     "text": [
      "X_train shape:  (2497500, 7)\n",
      "X_test shape:  (2497500, 7)\n",
      "y_train shape:  (2497500,)\n",
      "y_test shape:  (2497500,)\n"
     ]
    }
   ],
   "source": [
    "df_train = pd.concat(train_set).reset_index(drop=True)\n",
    "df_test = pd.concat(test_set).reset_index(drop=True)\n",
    "\n",
    "y_train = df_train.pop('EDGE_IN_SOL').values\n",
    "y_test = df_test.pop('EDGE_IN_SOL').values\n",
    "X_train = df_train.values\n",
    "X_test = df_test.values\n",
    "\n",
    "print(\"X_train shape: \", X_train.shape)\n",
    "print(\"X_test shape: \", X_test.shape)\n",
    "print(\"y_train shape: \", y_train.shape)\n",
    "print(\"y_test shape: \", y_test.shape)"
   ]
  },
  {
   "cell_type": "markdown",
   "metadata": {},
   "source": [
    "We will split the data into 50% for training and 50% for testing."
   ]
  },
  {
   "cell_type": "markdown",
   "metadata": {},
   "source": [
    "## Naïve Bayes"
   ]
  },
  {
   "cell_type": "code",
   "execution_count": 5,
   "metadata": {},
   "outputs": [
    {
     "data": {
      "text/plain": [
       "['Models/TSP_NB_model.pkl']"
      ]
     },
     "execution_count": 5,
     "metadata": {},
     "output_type": "execute_result"
    }
   ],
   "source": [
    "gnb = GaussianNB()\n",
    "TSP_NB = gnb.fit(X_train, y_train)\n",
    "y_dash_NB = TSP_NB.predict(X_test)\n",
    "joblib.dump(TSP_NB, 'Models/TSP_NB_model.pkl') # Save Model"
   ]
  },
  {
   "cell_type": "markdown",
   "metadata": {},
   "source": [
    "### Accuracy & Confusion Matrix\n",
    "With the confusion matrix, rows are actual and columns are predicted.   \n",
    "If 0 is negative and 1 is positive `C(0,0)` is TN and `C(1,1)` is TP.  \n",
    "TN, FP  \n",
    "FN, TP"
   ]
  },
  {
   "cell_type": "code",
   "execution_count": 6,
   "metadata": {},
   "outputs": [
    {
     "name": "stdout",
     "output_type": "stream",
     "text": [
      "Accuracy: 0.98\n",
      "Confusion matrix:\n",
      "[[2454465   38035]\n",
      " [     72    4928]]\n"
     ]
    }
   ],
   "source": [
    "acc = accuracy_score(y_test, y_dash_NB)\n",
    "print(\"Accuracy: {0:.2f}\".format(acc)) \n",
    "confusion = confusion_matrix(y_test, y_dash_NB)\n",
    "print(\"Confusion matrix:\\n{}\".format(confusion)) "
   ]
  },
  {
   "cell_type": "markdown",
   "metadata": {},
   "source": [
    "## Random Forest Classifier"
   ]
  },
  {
   "cell_type": "markdown",
   "metadata": {},
   "source": [
    "#### Grid Search\n",
    "Look at current parameters."
   ]
  },
  {
   "cell_type": "code",
   "execution_count": null,
   "metadata": {},
   "outputs": [],
   "source": [
    "TSP_RF = RandomForestClassifier(random_state=0)\n",
    "TSP_RF.get_params()"
   ]
  },
  {
   "cell_type": "markdown",
   "metadata": {},
   "source": [
    "Start with random search."
   ]
  },
  {
   "cell_type": "code",
   "execution_count": null,
   "metadata": {},
   "outputs": [],
   "source": [
    "# Number of trees in random forest\n",
    "n_estimators = [int(x) for x in np.linspace(start = 200, stop = 2000, num = 10)]\n",
    "# Number of features to consider at every split\n",
    "max_features = ['auto', 'sqrt']\n",
    "# Maximum number of levels in tree\n",
    "max_depth = [int(x) for x in np.linspace(10, 110, num = 11)]\n",
    "max_depth.append(None)\n",
    "# Minimum number of samples required to split a node\n",
    "min_samples_split = [2, 5, 10]\n",
    "# Minimum number of samples required at each leaf node\n",
    "min_samples_leaf = [1, 2, 4]\n",
    "# Method of selecting samples for training each tree\n",
    "bootstrap = [True, False]"
   ]
  },
  {
   "cell_type": "code",
   "execution_count": null,
   "metadata": {},
   "outputs": [],
   "source": [
    "random_grid = {'n_estimators': n_estimators,\n",
    "               'max_features': max_features,\n",
    "               'max_depth': max_depth,\n",
    "               'min_samples_split': min_samples_split,\n",
    "               'min_samples_leaf': min_samples_leaf,\n",
    "               'bootstrap': bootstrap}\n",
    "random_grid"
   ]
  },
  {
   "cell_type": "code",
   "execution_count": null,
   "metadata": {},
   "outputs": [],
   "source": [
    "rf_random = RandomizedSearchCV(estimator=TSP_RF, param_distributions=random_grid, n_iter=100, cv=2, verbose=2, random_state=42, n_jobs=-1, scoring='f1')\n",
    "# Fit the random search model\n",
    "rf_random.fit(X_train, y_train)"
   ]
  },
  {
   "cell_type": "markdown",
   "metadata": {},
   "source": [
    "Best parameters found by Randomized Grid Search."
   ]
  },
  {
   "cell_type": "code",
   "execution_count": null,
   "metadata": {},
   "outputs": [],
   "source": [
    "rf_random.best_params_"
   ]
  },
  {
   "cell_type": "markdown",
   "metadata": {},
   "source": [
    "Train and Save Model."
   ]
  },
  {
   "cell_type": "code",
   "execution_count": null,
   "metadata": {},
   "outputs": [],
   "source": [
    "TSP_RF = RandomForestClassifier(**rf_random.best_params_)\n",
    "TSP_RF.fit(X_train, y_train)\n",
    "joblib.dump(TSP_RF, 'Models/TSP_RF_model.pkl') # Save Model"
   ]
  },
  {
   "cell_type": "code",
   "execution_count": 7,
   "metadata": {},
   "outputs": [
    {
     "data": {
      "text/plain": [
       "RandomForestClassifier(bootstrap=True, class_weight=None, criterion='gini',\n",
       "                       max_depth=10, max_features='sqrt', max_leaf_nodes=None,\n",
       "                       min_impurity_decrease=0.0, min_impurity_split=None,\n",
       "                       min_samples_leaf=1, min_samples_split=11,\n",
       "                       min_weight_fraction_leaf=0.0, n_estimators=1100,\n",
       "                       n_jobs=None, oob_score=False, random_state=None,\n",
       "                       verbose=0, warm_start=False)"
      ]
     },
     "execution_count": 7,
     "metadata": {},
     "output_type": "execute_result"
    }
   ],
   "source": [
    "TSP_RF = joblib.load('Models/TSP_RF_model.pkl')\n",
    "TSP_RF"
   ]
  },
  {
   "cell_type": "markdown",
   "metadata": {},
   "source": [
    "Local grid search around the parameters found by randomized search."
   ]
  },
  {
   "cell_type": "code",
   "execution_count": null,
   "metadata": {},
   "outputs": [],
   "source": [
    "# Create the parameter grid based on the results of random search \n",
    "param_grid = {'n_estimators': [rf_random.best_params_['n_estimators']-100,rf_random.best_params_['n_estimators'],rf_random.best_params_['n_estimators']+100],\n",
    "              'min_samples_split': [rf_random.best_params_['min_samples_split']-1, rf_random.best_params_['min_samples_split'], rf_random.best_params_['min_samples_split']+1],\n",
    "              'min_samples_leaf': [rf_random.best_params_['min_samples_leaf']-1, rf_random.best_params_['min_samples_leaf'], rf_random.best_params_['min_samples_leaf']+1],\n",
    "              'max_features': [rf_random.best_params_['max_features']],\n",
    "              'max_depth': [rf_random.best_params_['max_depth']-1, rf_random.best_params_['max_depth'], rf_random.best_params_['max_depth']+1],\n",
    "              'bootstrap': [rf_random.best_params_['bootstrap']]\n",
    "             }\n",
    "\n",
    "\n",
    "# Create a base model\n",
    "TSP_RF = RandomForestClassifier(random_state=0)\n",
    "\n",
    "# Instantiate the grid search model\n",
    "grid_search = GridSearchCV(estimator=TSP_RF, param_grid=param_grid, \n",
    "                          cv=2, n_jobs=-1, verbose=2, return_train_score=True, scoring='f1')\n",
    "\n",
    "param_grid"
   ]
  },
  {
   "cell_type": "code",
   "execution_count": null,
   "metadata": {},
   "outputs": [],
   "source": [
    "# Fit the grid search to the data\n",
    "grid_search.fit(X_train, y_train)\n",
    "grid_search.best_params_"
   ]
  },
  {
   "cell_type": "markdown",
   "metadata": {},
   "source": [
    "Fit and save final Random Forest model."
   ]
  },
  {
   "cell_type": "code",
   "execution_count": null,
   "metadata": {},
   "outputs": [],
   "source": [
    "TSP_RF = RandomForestClassifier(**grid_search.best_params_)\n",
    "TSP_RF.fit(X_train, y_train)\n",
    "joblib.dump(TSP_RF, 'Models/TSP_RF_model.pkl') # Save Model"
   ]
  },
  {
   "cell_type": "markdown",
   "metadata": {},
   "source": [
    "#### Feature Importance"
   ]
  },
  {
   "cell_type": "code",
   "execution_count": 11,
   "metadata": {},
   "outputs": [
    {
     "data": {
      "text/html": [
       "<div>\n",
       "<style scoped>\n",
       "    .dataframe tbody tr th:only-of-type {\n",
       "        vertical-align: middle;\n",
       "    }\n",
       "\n",
       "    .dataframe tbody tr th {\n",
       "        vertical-align: top;\n",
       "    }\n",
       "\n",
       "    .dataframe thead th {\n",
       "        text-align: right;\n",
       "    }\n",
       "</style>\n",
       "<table border=\"1\" class=\"dataframe\">\n",
       "  <thead>\n",
       "    <tr style=\"text-align: right;\">\n",
       "      <th></th>\n",
       "      <th>Feature Importance Score</th>\n",
       "    </tr>\n",
       "  </thead>\n",
       "  <tbody>\n",
       "    <tr>\n",
       "      <td>Local Rank Incident to Node2</td>\n",
       "      <td>0.411630</td>\n",
       "    </tr>\n",
       "    <tr>\n",
       "      <td>Local Rank Incident to Node1</td>\n",
       "      <td>0.393103</td>\n",
       "    </tr>\n",
       "    <tr>\n",
       "      <td>GLOBAL_RANK</td>\n",
       "      <td>0.124089</td>\n",
       "    </tr>\n",
       "    <tr>\n",
       "      <td>DISTANCE_KM</td>\n",
       "      <td>0.069772</td>\n",
       "    </tr>\n",
       "    <tr>\n",
       "      <td>IS_IN_1ST_QUARTILE</td>\n",
       "      <td>0.001231</td>\n",
       "    </tr>\n",
       "    <tr>\n",
       "      <td>IS_IN_2ND_QUARTILE</td>\n",
       "      <td>0.000175</td>\n",
       "    </tr>\n",
       "    <tr>\n",
       "      <td>IS_IN_3RD_QUARTILE</td>\n",
       "      <td>0.000000</td>\n",
       "    </tr>\n",
       "  </tbody>\n",
       "</table>\n",
       "</div>"
      ],
      "text/plain": [
       "                              Feature Importance Score\n",
       "Local Rank Incident to Node2                  0.411630\n",
       "Local Rank Incident to Node1                  0.393103\n",
       "GLOBAL_RANK                                   0.124089\n",
       "DISTANCE_KM                                   0.069772\n",
       "IS_IN_1ST_QUARTILE                            0.001231\n",
       "IS_IN_2ND_QUARTILE                            0.000175\n",
       "IS_IN_3RD_QUARTILE                            0.000000"
      ]
     },
     "execution_count": 11,
     "metadata": {},
     "output_type": "execute_result"
    }
   ],
   "source": [
    "FI_df = pd.DataFrame(TSP_RF.feature_importances_, index=df_TSP_list[0].columns[:-1], columns =['Feature Importance Score'])\n",
    "FI_df.sort_values('Feature Importance Score', inplace=True, ascending=False)\n",
    "FI_df['Feature Importance Score'] = FI_df['Feature Importance Score'].apply(lambda x: np.around(x, 7))\n",
    "FI_df"
   ]
  },
  {
   "cell_type": "code",
   "execution_count": 12,
   "metadata": {},
   "outputs": [
    {
     "name": "stdout",
     "output_type": "stream",
     "text": [
      "Accuracy: 1.00\n",
      "Confusion matrix:\n",
      "[[2491744     756]\n",
      " [   2068    2932]]\n"
     ]
    }
   ],
   "source": [
    "y_dash_RF = TSP_RF.predict(X_test)\n",
    "acc = accuracy_score(y_test, y_dash_RF)\n",
    "print(\"Accuracy: {0:.2f}\".format(acc)) \n",
    "confusion = confusion_matrix(y_test, y_dash_RF)\n",
    "print(\"Confusion matrix:\\n{}\".format(confusion))"
   ]
  },
  {
   "cell_type": "markdown",
   "metadata": {},
   "source": [
    "## Logistic Regression Classifier"
   ]
  },
  {
   "cell_type": "code",
   "execution_count": 13,
   "metadata": {},
   "outputs": [
    {
     "data": {
      "text/plain": [
       "['Models/TSP_LR_model.pkl']"
      ]
     },
     "execution_count": 13,
     "metadata": {},
     "output_type": "execute_result"
    }
   ],
   "source": [
    "TSP_LR = LogisticRegression(random_state=0, solver='lbfgs')\n",
    "TSP_LR.fit(X_train, y_train)\n",
    "joblib.dump(TSP_LR, 'Models/TSP_LR_model.pkl') # Save Model"
   ]
  },
  {
   "cell_type": "code",
   "execution_count": 14,
   "metadata": {},
   "outputs": [
    {
     "name": "stdout",
     "output_type": "stream",
     "text": [
      "Accuracy: 1.00\n",
      "Confusion matrix:\n",
      "[[2491582     918]\n",
      " [   2084    2916]]\n"
     ]
    }
   ],
   "source": [
    "y_dash_LR = TSP_LR.predict(X_test)\n",
    "acc = accuracy_score(y_test, y_dash_LR)\n",
    "print(\"Accuracy: {0:.2f}\".format(acc)) \n",
    "confusion = confusion_matrix(y_test, y_dash_LR)\n",
    "print(\"Confusion matrix:\\n{}\".format(confusion))"
   ]
  },
  {
   "cell_type": "markdown",
   "metadata": {},
   "source": [
    "- Implement the thresholding\n",
    "- Experiment with hyperparameters\n",
    "- Trade off between pruning and number of ground truth edges that you keep (whilst changing threshold) **IMPORTANT**\n",
    "- Find optimal threshold\n",
    "- Integrate with exact algorithm (complete the tour)\n",
    "- WRITE THE THESIS"
   ]
  }
 ],
 "metadata": {
  "kernelspec": {
   "display_name": "Python 3",
   "language": "python",
   "name": "python3"
  },
  "language_info": {
   "codemirror_mode": {
    "name": "ipython",
    "version": 3
   },
   "file_extension": ".py",
   "mimetype": "text/x-python",
   "name": "python",
   "nbconvert_exporter": "python",
   "pygments_lexer": "ipython3",
   "version": "3.7.4"
  }
 },
 "nbformat": 4,
 "nbformat_minor": 4
}
