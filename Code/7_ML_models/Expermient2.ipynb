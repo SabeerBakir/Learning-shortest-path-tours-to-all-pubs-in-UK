{
 "cells": [
  {
   "cell_type": "markdown",
   "metadata": {},
   "source": [
    "# Precision vs. Prune Ratio\n",
    "\n",
    "This notebook will look at how the threshold value effects the prune ratio and precision in the tour predicted by a model."
   ]
  },
  {
   "cell_type": "code",
   "execution_count": 1,
   "metadata": {},
   "outputs": [],
   "source": [
    "import pandas as pd\n",
    "import numpy as np\n",
    "import pickle\n",
    "import os\n",
    "\n",
    "from sklearn.naive_bayes import GaussianNB\n",
    "from sklearn.ensemble import RandomForestClassifier\n",
    "from sklearn.linear_model import LogisticRegression\n",
    "\n",
    "import joblib\n",
    "import model_utils as M\n",
    "\n",
    "import seaborn as sns\n",
    "import matplotlib.pyplot as plt"
   ]
  },
  {
   "cell_type": "markdown",
   "metadata": {},
   "source": [
    "Load in the models."
   ]
  },
  {
   "cell_type": "code",
   "execution_count": 2,
   "metadata": {},
   "outputs": [],
   "source": [
    "TSP_NB = joblib.load('Models/TSP_NB_model.pkl')\n",
    "TSP_LR = joblib.load('Models/TSP_LR_model.pkl')\n",
    "TSP_RF = joblib.load('Models/TSP_RF_model.pkl')"
   ]
  },
  {
   "cell_type": "markdown",
   "metadata": {},
   "source": [
    "Load the test data."
   ]
  },
  {
   "cell_type": "code",
   "execution_count": 3,
   "metadata": {},
   "outputs": [
    {
     "data": {
      "text/plain": [
       "(499500, 8)"
      ]
     },
     "execution_count": 3,
     "metadata": {},
     "output_type": "execute_result"
    }
   ],
   "source": [
    "DATA_DIR = '../6_feature_engineering/Feature_Dataset/'\n",
    "data_files = [i for i in os.listdir(DATA_DIR) if i.endswith('.csv')]\n",
    "data_files.sort()\n",
    "df_TSP_list = [pd.read_csv(DATA_DIR + file) for file in data_files]\n",
    "\n",
    "for i in range(len(df_TSP_list)):\n",
    "    # Convert booleans to int\n",
    "    df_TSP_list[i] = df_TSP_list[i].astype({'IS_IN_1ST_QUARTILE': 'int64',\n",
    "                                            'IS_IN_2ND_QUARTILE': 'int64',\n",
    "                                            'IS_IN_3RD_QUARTILE': 'int64',\n",
    "                                            'EDGE_IN_SOL': 'int64'})\n",
    "    df_TSP_list[i] = df_TSP_list[i].reset_index(drop=True)\n",
    "    \n",
    "train_set = df_TSP_list[:5]\n",
    "test_set = df_TSP_list[5:]\n",
    "\n",
    "test_set[0].shape"
   ]
  },
  {
   "cell_type": "markdown",
   "metadata": {},
   "source": [
    "Load the coordinates for the test data."
   ]
  },
  {
   "cell_type": "code",
   "execution_count": 4,
   "metadata": {},
   "outputs": [
    {
     "data": {
      "text/plain": [
       "(499500, 7)"
      ]
     },
     "execution_count": 4,
     "metadata": {},
     "output_type": "execute_result"
    }
   ],
   "source": [
    "COORD_DATA_DIR = '../5_ground_truth/Final_Dataset/'\n",
    "coord_datafiles = [i for i in os.listdir(COORD_DATA_DIR) if i.endswith('.csv')]\n",
    "coord_datafiles.sort()\n",
    "\n",
    "df_coord_list = [pd.read_csv(COORD_DATA_DIR + file) for file in coord_datafiles]\n",
    "\n",
    "for i in range(len(df_coord_list)):\n",
    "    df_coord_list[i]['NODE1_COORDS'] = df_coord_list[i]['NODE1_COORDS'].apply(eval)\n",
    "    df_coord_list[i]['NODE2_COORDS'] = df_coord_list[i]['NODE2_COORDS'].apply(eval)\n",
    "\n",
    "train_coords = df_coord_list[:5]\n",
    "test_coords = df_coord_list[5:]\n",
    "\n",
    "test_coords[0].shape"
   ]
  },
  {
   "cell_type": "markdown",
   "metadata": {},
   "source": [
    "Constant Variables."
   ]
  },
  {
   "cell_type": "code",
   "execution_count": 11,
   "metadata": {},
   "outputs": [],
   "source": [
    "set_num = 0 # For changing between different test graphs\n",
    "cols = test_set[set_num].columns[:-1]  # Every column except the last one"
   ]
  },
  {
   "cell_type": "markdown",
   "metadata": {},
   "source": [
    "## Naïve Bayes: Prune Ratio vs. Precision"
   ]
  },
  {
   "cell_type": "code",
   "execution_count": 5,
   "metadata": {},
   "outputs": [],
   "source": [
    "step = 0.05 # size between threshold values"
   ]
  },
  {
   "cell_type": "code",
   "execution_count": 13,
   "metadata": {},
   "outputs": [
    {
     "name": "stdout",
     "output_type": "stream",
     "text": [
      "Naïve Bayes\n",
      "Precision: [0.01524586 0.10384696 0.10635091 0.10794275 0.1091954  0.11039106\n",
      " 0.11144952 0.11260543 0.11370699 0.11424933 0.11508862 0.11565982\n",
      " 0.11688004 0.11806969 0.1191109  0.12031727 0.12169835 0.12349699\n",
      " 0.12621608 0.13091441 1.        ]\n",
      "Prune ratio: [0.86881682 0.98095295 0.9814014  0.98167568 0.98188589 0.98208208\n",
      " 0.98225225 0.98243443 0.9826046  0.9827047  0.98283083 0.98293293\n",
      " 0.98311111 0.98328128 0.98342743 0.98359359 0.98377978 0.98401602\n",
      " 0.98436036 0.98493694 1.        ]\n"
     ]
    }
   ],
   "source": [
    "NB_precisions = np.array([])\n",
    "NB_prune_ratio = np.array([])\n",
    "\n",
    "\n",
    "X = test_set[set_num][cols].values\n",
    "\n",
    "step = 0.05\n",
    "for t in np.arange(0, 1+step, step):\n",
    "    tour = M.threshold_tour(X, test_coords[set_num], TSP_NB, threshold=t)\n",
    "    NB_precisions = np.append(NB_precisions, M.precision(tour))\n",
    "    NB_prune_ratio = np.append(NB_prune_ratio, M.prune_ratio(tour, test_coords[set_num].shape[0]))\n",
    "\n",
    "print(\"Naïve Bayes\")\n",
    "print(\"Precision: {}\".format(NB_precisions))\n",
    "print(\"Prune ratio: {}\".format(NB_prune_ratio))"
   ]
  },
  {
   "cell_type": "code",
   "execution_count": 16,
   "metadata": {},
   "outputs": [
    {
     "data": {
      "image/png": "[encoded data removed]",
      "text/plain": [
       "<Figure size 432x288 with 1 Axes>"
      ]
     },
     "metadata": {
      "needs_background": "light"
     },
     "output_type": "display_data"
    }
   ],
   "source": [
    "df = pd.DataFrame({\"NB precisions\": NB_precisions, \n",
    "                   \"NB prune ratio\": NB_prune_ratio})\n",
    "\n",
    "\n",
    "ax = sns.lineplot(x=\"NB precisions\", y=\"NB prune ratio\", data=df)\n",
    "#ax.figure.legend()\n",
    "ax.set_xlabel('Precision')\n",
    "ax.set_ylabel('Prune Ratio')\n",
    "\n",
    "plt.title(\"Naïve Bayes: Prune Ratio vs. Precision\")\n",
    "\n",
    "plt.show()"
   ]
  },
  {
   "cell_type": "markdown",
   "metadata": {},
   "source": [
    "## Logistic Regression: Prune Ratio vs. Precision"
   ]
  },
  {
   "cell_type": "code",
   "execution_count": 17,
   "metadata": {},
   "outputs": [
    {
     "name": "stdout",
     "output_type": "stream",
     "text": [
      "Logistic Regression\n",
      "Precision: [0.002002   0.32728542 0.38284251 0.43746835 0.48201856 0.52431012\n",
      " 0.5390411  0.59385113 0.6504298  0.6680203  0.75431607 0.7721519\n",
      " 0.87326733 0.89303483 0.93220339 0.6        0.6        0.5\n",
      " 0.5        1.         1.        ]\n",
      "Prune ratio: [0.         0.99426226 0.99530931 0.99604605 0.99654855 0.99695295\n",
      " 0.99707708 0.99752553 0.9979039  0.99802803 0.99849249 0.99857658\n",
      " 0.99898899 0.9991952  0.99940941 0.99998999 0.99998999 0.999996\n",
      " 0.999996   0.999998   1.        ]\n"
     ]
    }
   ],
   "source": [
    "LR_precisions = np.array([])\n",
    "LR_prune_ratio = np.array([])\n",
    "\n",
    "\n",
    "X = test_set[set_num][cols].values\n",
    "\n",
    "step = 0.05\n",
    "for t in np.arange(0, 1+step, step):\n",
    "    tour = M.threshold_tour(X, test_coords[set_num], TSP_LR, threshold=t)\n",
    "    LR_precisions = np.append(LR_precisions, M.precision(tour))\n",
    "    LR_prune_ratio = np.append(LR_prune_ratio, M.prune_ratio(tour, test_coords[set_num].shape[0]))\n",
    "\n",
    "print(\"Logistic Regression\")\n",
    "print(\"Precision: {}\".format(LR_precisions))\n",
    "print(\"Prune ratio: {}\".format(LR_prune_ratio))"
   ]
  },
  {
   "cell_type": "code",
   "execution_count": 18,
   "metadata": {},
   "outputs": [
    {
     "data": {
      "image/png": "[encoded data removed]",
      "text/plain": [
       "<Figure size 432x288 with 1 Axes>"
      ]
     },
     "metadata": {
      "needs_background": "light"
     },
     "output_type": "display_data"
    }
   ],
   "source": [
    "df = pd.DataFrame({\"LR precisions\": LR_precisions, \n",
    "                   \"LR prune ratio\": LR_prune_ratio})\n",
    "\n",
    "\n",
    "ax = sns.lineplot(x=\"LR precisions\", y=\"LR prune ratio\", data=df)\n",
    "#ax.figure.legend()\n",
    "ax.set_xlabel('Precision')\n",
    "ax.set_ylabel('Prune Ratio')\n",
    "\n",
    "plt.title(\"Logistic Regression: Prune Ratio vs. Precision\")\n",
    "\n",
    "plt.show()"
   ]
  },
  {
   "cell_type": "markdown",
   "metadata": {},
   "source": [
    "## Random Forest: Prune Ratio vs. Precision"
   ]
  },
  {
   "cell_type": "code",
   "execution_count": 20,
   "metadata": {},
   "outputs": [
    {
     "name": "stdout",
     "output_type": "stream",
     "text": [
      "Random Forest\n",
      "Precision: [0.002002   0.35517891 0.44069479 0.50533808 0.55904437 0.59606657\n",
      " 0.64452114 0.692      0.74655963 0.77150193 0.79750347 0.82908546\n",
      " 0.85619835 0.86740331 0.88659794 0.9047619  0.91256831 0.92380952\n",
      " 0.94672131 0.94219653 1.        ]\n",
      "Prune ratio: [0.         0.99468468 0.99596597 0.99662462 0.99706707 0.99735335\n",
      " 0.99767968 0.997998   0.99825425 0.99844044 0.99855656 0.99866466\n",
      " 0.99878879 0.99891291 0.99902903 0.99915916 0.99926727 0.99936937\n",
      " 0.99951151 0.99965365 1.        ]\n"
     ]
    }
   ],
   "source": [
    "RF_precisions = np.array([])\n",
    "RF_prune_ratio = np.array([])\n",
    "\n",
    "\n",
    "X = test_set[set_num][cols].values\n",
    "\n",
    "step = 0.05\n",
    "for t in np.arange(0, 1+step, step):\n",
    "    tour = M.threshold_tour(X, test_coords[set_num], TSP_RF, threshold=t)\n",
    "    RF_precisions = np.append(RF_precisions, M.precision(tour))\n",
    "    RF_prune_ratio = np.append(RF_prune_ratio, M.prune_ratio(tour, test_coords[set_num].shape[0]))\n",
    "\n",
    "print(\"Random Forest\")\n",
    "print(\"Precision: {}\".format(RF_precisions))\n",
    "print(\"Prune ratio: {}\".format(RF_prune_ratio))"
   ]
  },
  {
   "cell_type": "code",
   "execution_count": 21,
   "metadata": {},
   "outputs": [
    {
     "data": {
      "image/png": "[encoded data removed]",
      "text/plain": [
       "<Figure size 432x288 with 1 Axes>"
      ]
     },
     "metadata": {
      "needs_background": "light"
     },
     "output_type": "display_data"
    }
   ],
   "source": [
    "df = pd.DataFrame({\"RF precisions\": RF_precisions, \n",
    "                   \"RF prune ratio\": RF_prune_ratio})\n",
    "\n",
    "\n",
    "ax = sns.lineplot(x=\"RF precisions\", y=\"RF prune ratio\", data=df)\n",
    "#ax.figure.legend()\n",
    "ax.set_xlabel('Precision')\n",
    "ax.set_ylabel('Prune Ratio')\n",
    "\n",
    "plt.title(\"Random Forest: Prune Ratio vs. Precision\")\n",
    "\n",
    "plt.show()"
   ]
  }
 ],
 "metadata": {
  "kernelspec": {
   "display_name": "Python 3",
   "language": "python",
   "name": "python3"
  },
  "language_info": {
   "codemirror_mode": {
    "name": "ipython",
    "version": 3
   },
   "file_extension": ".py",
   "mimetype": "text/x-python",
   "name": "python",
   "nbconvert_exporter": "python",
   "pygments_lexer": "ipython3",
   "version": "3.7.4"
  }
 },
 "nbformat": 4,
 "nbformat_minor": 4
}
