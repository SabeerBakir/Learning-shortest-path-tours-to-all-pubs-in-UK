{
 "cells": [
  {
   "cell_type": "markdown",
   "metadata": {},
   "source": [
    "# Ground Truth\n",
    "\n",
    "Import necessary libraries"
   ]
  },
  {
   "cell_type": "code",
   "execution_count": null,
   "metadata": {},
   "outputs": [],
   "source": [
    "import pandas as pd\n",
    "import os"
   ]
  },
  {
   "cell_type": "markdown",
   "metadata": {},
   "source": [
    "#### Load in the datasets."
   ]
  },
  {
   "cell_type": "code",
   "execution_count": null,
   "metadata": {},
   "outputs": [],
   "source": [
    "DATA_DIR = '../4_edge_dataset/'\n",
    "datafiles = [i for i in os.listdir(DATA_DIR) if i.endswith('.csv')]\n",
    "datafiles.sort()\n",
    "datafiles"
   ]
  },
  {
   "cell_type": "code",
   "execution_count": null,
   "metadata": {},
   "outputs": [],
   "source": [
    "df_edges_list = [pd.read_csv(DATA_DIR + file) for file in datafiles] # list of dataframes for each csv\n",
    "df_edges_list[0]"
   ]
  },
  {
   "cell_type": "markdown",
   "metadata": {},
   "source": [
    "#### Generate Ground Truth"
   ]
  },
  {
   "cell_type": "markdown",
   "metadata": {},
   "source": [
    "Define the directories of Concorde and Graphs."
   ]
  },
  {
   "cell_type": "code",
   "execution_count": null,
   "metadata": {},
   "outputs": [],
   "source": [
    "CONCORDE_HOME = '/home/sbakir/Documents/Concorde/Concorde_build/TSP/'\n",
    "GRAPH_DIR = '../2_graphgen/Graphs/'\n",
    "tsp_files = [i for i in os.listdir(GRAPH_DIR) if i.endswith('.tsp')]\n",
    "tsp_files.sort()\n",
    "\n",
    "# Check these directories exist\n",
    "assert os.path.isdir(CONCORDE_HOME)\n",
    "assert os.path.isdir(GRAPH_DIR)"
   ]
  },
  {
   "cell_type": "markdown",
   "metadata": {},
   "source": [
    "Run the Concorde."
   ]
  },
  {
   "cell_type": "code",
   "execution_count": null,
   "metadata": {},
   "outputs": [],
   "source": [
    "skip = True\n",
    "\n",
    "if not skip:\n",
    "    for tsp in tsp_files:\n",
    "        os.popen(CONCORDE_HOME + 'concorde -f ' + GRAPH_DIR + tsp).read()"
   ]
  },
  {
   "cell_type": "markdown",
   "metadata": {},
   "source": [
    "Cleanup the directory."
   ]
  },
  {
   "cell_type": "code",
   "execution_count": null,
   "metadata": {},
   "outputs": [],
   "source": [
    "files_types_to_keep = ['sol', 'ipynb', 'ipynb_checkpoints']\n",
    "\n",
    "files_to_delete = [i for i in os.listdir() if i.split('.')[-1] not in files_types_to_keep]\n",
    "\n",
    "for file in files_to_delete:\n",
    "    os.remove(file)\n",
    "    \n",
    "os.listdir()"
   ]
  },
  {
   "cell_type": "markdown",
   "metadata": {},
   "source": [
    "Create Dataframes for the solutions."
   ]
  },
  {
   "cell_type": "code",
   "execution_count": null,
   "metadata": {},
   "outputs": [],
   "source": [
    "sol_files = tsp_files = [i for i in os.listdir() if i.endswith('.sol')]\n",
    "sol_files.sort()\n",
    "\n",
    "df_sols_list = [pd.read_csv(sol, delimiter=' ', skiprows=[0], names=['Node1_ID', 'Node2_ID', 'DISTANCE_KM']) for sol in sol_files]\n",
    "    \n",
    "df_sols_list[0].head()"
   ]
  },
  {
   "cell_type": "markdown",
   "metadata": {},
   "source": [
    "Put Nodes into tuples."
   ]
  },
  {
   "cell_type": "code",
   "execution_count": null,
   "metadata": {},
   "outputs": [],
   "source": [
    "for df_sol in df_sols_list:\n",
    "    df_sol['EDGE(Node1_ID, Node2_ID)'] = list(zip(df_sol['Node1_ID'], df_sol['Node2_ID']))\n",
    "    df_sol.drop(['Node1_ID', 'Node2_ID'], axis=1, inplace=True)\n",
    "    \n",
    "df_sols_list[0].head()"
   ]
  },
  {
   "cell_type": "markdown",
   "metadata": {},
   "source": [
    "Create Boolean attribute to date to see if an edge is in the solution."
   ]
  },
  {
   "cell_type": "code",
   "execution_count": null,
   "metadata": {},
   "outputs": [],
   "source": [
    "for i in range(len(df_sols_list)):\n",
    "    edges_sol = df_sols_list[i]['EDGE(Node1_ID, Node2_ID)'].tolist()\n",
    "    edges_sol += df_sols_list[i]['EDGE(Node1_ID, Node2_ID)'].apply(lambda x: (x[1], x[0])).tolist()\n",
    "\n",
    "    df_edges_list[i]['EDGE_IN_SOL'] = df_edges_list[i]['EDGE(Node1_ID, Node2_ID)'].apply(eval).isin(edges_sol)\n",
    "    \n",
    "df_edges_list[0].head()"
   ]
  },
  {
   "cell_type": "markdown",
   "metadata": {},
   "source": [
    "Sanity Check, there should be 1000 `True` values"
   ]
  },
  {
   "cell_type": "code",
   "execution_count": null,
   "metadata": {},
   "outputs": [],
   "source": [
    "print(df_edges_list[0]['EDGE_IN_SOL'].value_counts())"
   ]
  },
  {
   "cell_type": "markdown",
   "metadata": {},
   "source": [
    "#### Save the final Dataframes"
   ]
  },
  {
   "cell_type": "code",
   "execution_count": null,
   "metadata": {},
   "outputs": [],
   "source": [
    "for i in range(len(df_edges_list)):\n",
    "    df_edges_list[i].to_csv('./Final_Dataset/TSP_Data{}.csv'.format(i), index=False, float_format='%.6f')"
   ]
  }
 ],
 "metadata": {
  "kernelspec": {
   "display_name": "Python 3",
   "language": "python",
   "name": "python3"
  },
  "language_info": {
   "codemirror_mode": {
    "name": "ipython",
    "version": 3
   },
   "file_extension": ".py",
   "mimetype": "text/x-python",
   "name": "python",
   "nbconvert_exporter": "python",
   "pygments_lexer": "ipython3",
   "version": "3.7.4"
  }
 },
 "nbformat": 4,
 "nbformat_minor": 4
}
