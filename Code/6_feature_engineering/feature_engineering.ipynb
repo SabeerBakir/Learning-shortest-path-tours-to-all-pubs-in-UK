{
 "cells": [
  {
   "cell_type": "markdown",
   "metadata": {},
   "source": [
    "# Feature Engineering"
   ]
  },
  {
   "cell_type": "code",
   "execution_count": null,
   "metadata": {},
   "outputs": [],
   "source": [
    "import pandas as pd\n",
    "import os\n",
    "\n",
    "import feature_engineering_utils as F"
   ]
  },
  {
   "cell_type": "markdown",
   "metadata": {},
   "source": [
    "Import a dataset."
   ]
  },
  {
   "cell_type": "code",
   "execution_count": null,
   "metadata": {},
   "outputs": [],
   "source": [
    "DATASET_DIR = '../5_ground_truth/Final_Dataset/'\n",
    "data_files = [i for i in os.listdir(DATASET_DIR) if i.endswith('.csv')]\n",
    "data_files"
   ]
  },
  {
   "cell_type": "code",
   "execution_count": null,
   "metadata": {},
   "outputs": [],
   "source": [
    "df_TSP_list = [pd.read_csv(DATASET_DIR + file) for file in data_files]\n",
    "df_TSP_list[0].head()"
   ]
  },
  {
   "cell_type": "markdown",
   "metadata": {},
   "source": [
    "Some of the dtypes of the data may not be set correctly."
   ]
  },
  {
   "cell_type": "code",
   "execution_count": null,
   "metadata": {},
   "outputs": [],
   "source": [
    "for i in range(len(df_TSP_list)):\n",
    "    df_TSP_list[i] = df_TSP_list[i].applymap(lambda x: eval(x) if isinstance(x, str) else x)\n",
    "    \n",
    "df_TSP_list[0].info()"
   ]
  },
  {
   "cell_type": "markdown",
   "metadata": {},
   "source": [
    "### Local Ranking\n",
    "\n",
    "This will be the rank of an edge by it's weight with respect to each node that makes creates an edge."
   ]
  },
  {
   "cell_type": "code",
   "execution_count": null,
   "metadata": {},
   "outputs": [],
   "source": [
    "df_TSP_list[0]"
   ]
  },
  {
   "cell_type": "markdown",
   "metadata": {},
   "source": [
    "Find all the edges that are incident to each node."
   ]
  },
  {
   "cell_type": "code",
   "execution_count": null,
   "metadata": {},
   "outputs": [],
   "source": [
    "df_nodes_list = []\n",
    "\n",
    "for i in range(len(df_TSP_list)):\n",
    "    num_nodes = max(df_TSP_list[i]['EDGE(Node1_ID, Node2_ID)'].max()) + 1\n",
    "\n",
    "    df_nodes = pd.DataFrame({'Node': range(num_nodes),\n",
    "                             'Incident Edges': [F.edges_incident_to_node(df_TSP_list[i], j) for j in range(num_nodes)]\n",
    "                            })\n",
    "    \n",
    "    df_nodes_list.append(df_nodes)\n",
    "    \n",
    "df_nodes_list[0]"
   ]
  },
  {
   "cell_type": "code",
   "execution_count": null,
   "metadata": {},
   "outputs": [],
   "source": [
    "for i in range(len(df_TSP_list)):\n",
    "    df_TSP_list[i]['Local Rank Incident to Node1'] = df_TSP_list[i]['EDGE(Node1_ID, Node2_ID)'].apply(\n",
    "        lambda edge: F.local_edge_rank_incident_to_node(df_nodes_list[i], edge[0], edge))\n",
    "    df_TSP_list[i]['Local Rank Incident to Node2'] = df_TSP_list[i]['EDGE(Node1_ID, Node2_ID)'].apply(\n",
    "        lambda edge: F.local_edge_rank_incident_to_node(df_nodes_list[i], edge[1], edge))\n",
    "    \n",
    "df_TSP_list[0]"
   ]
  },
  {
   "cell_type": "markdown",
   "metadata": {},
   "source": [
    "### Global Ranking\n",
    "\n",
    "Similarly to Local edge ranking, this will rank the edges in the entire dateset."
   ]
  },
  {
   "cell_type": "code",
   "execution_count": null,
   "metadata": {},
   "outputs": [],
   "source": [
    "for i in range(len(df_TSP_list)):\n",
    "    df_TSP_list[i] = df_TSP_list[i].sort_values('DISTANCE_KM')\n",
    "    df_TSP_list[i]['GLOBAL_RANK'] = range(1, df_TSP_list[i].shape[0] + 1)\n",
    "    df_TSP_list[i] = df_TSP_list[i].sort_index()\n",
    "\n",
    "df_TSP_list[0].head()"
   ]
  },
  {
   "cell_type": "markdown",
   "metadata": {},
   "source": [
    "### Edge Statistics\n",
    "\n",
    "These features will be show if an edge is in within certain quatiles."
   ]
  },
  {
   "cell_type": "code",
   "execution_count": null,
   "metadata": {},
   "outputs": [],
   "source": [
    "df_TSP_list[0]['DISTANCE_KM'].quantile([0.25, 0.5, 0.75])"
   ]
  },
  {
   "cell_type": "code",
   "execution_count": null,
   "metadata": {},
   "outputs": [],
   "source": [
    "for i in range(len(df_TSP_list)):\n",
    "    df_TSP_list[i]['IS_IN_1ST_QUARTILE'] = df_TSP_list[i]['DISTANCE_KM'] < df_TSP_list[i]['DISTANCE_KM'].quantile(0.25)\n",
    "    df_TSP_list[i]['IS_IN_2ND_QUARTILE'] = df_TSP_list[i]['DISTANCE_KM'] < df_TSP_list[i]['DISTANCE_KM'].quantile(0.5)\n",
    "    df_TSP_list[i]['IS_IN_3RD_QUARTILE'] = df_TSP_list[i]['DISTANCE_KM'] < df_TSP_list[i]['DISTANCE_KM'].quantile(0.75)\n",
    "    \n",
    "df_TSP_list[0].head()"
   ]
  },
  {
   "cell_type": "markdown",
   "metadata": {},
   "source": [
    "Save dataset."
   ]
  },
  {
   "cell_type": "code",
   "execution_count": null,
   "metadata": {},
   "outputs": [],
   "source": [
    "cols = ['DISTANCE_KM', 'Local Rank Incident to Node1', 'Local Rank Incident to Node2', 'GLOBAL_RANK', 'IS_IN_1ST_QUARTILE', 'IS_IN_2ND_QUARTILE', 'IS_IN_3RD_QUARTILE', 'EDGE_IN_SOL']\n",
    "\n",
    "for i in range(len(df_TSP_list)):\n",
    "    df_TSP_list[i][cols].to_csv('Feature_Dataset/TSP_Data{}.csv'.format(i), index=False, float_format='%.6f')"
   ]
  }
 ],
 "metadata": {
  "kernelspec": {
   "display_name": "Python 3",
   "language": "python",
   "name": "python3"
  },
  "language_info": {
   "codemirror_mode": {
    "name": "ipython",
    "version": 3
   },
   "file_extension": ".py",
   "mimetype": "text/x-python",
   "name": "python",
   "nbconvert_exporter": "python",
   "pygments_lexer": "ipython3",
   "version": "3.7.4"
  }
 },
 "nbformat": 4,
 "nbformat_minor": 4
}
