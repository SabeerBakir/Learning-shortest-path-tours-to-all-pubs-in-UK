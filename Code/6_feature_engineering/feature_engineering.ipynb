{
 "cells": [
  {
   "cell_type": "markdown",
   "metadata": {},
   "source": [
    "# Feature Engineering"
   ]
  },
  {
   "cell_type": "code",
   "execution_count": 1,
   "metadata": {},
   "outputs": [],
   "source": [
    "import pandas as pd\n",
    "import os\n",
    "\n",
    "import feature_engineering_utils as F"
   ]
  },
  {
   "cell_type": "markdown",
   "metadata": {},
   "source": [
    "Import a dataset."
   ]
  },
  {
   "cell_type": "code",
   "execution_count": 2,
   "metadata": {},
   "outputs": [
    {
     "data": {
      "text/plain": [
       "['TSP_Data0.csv',\n",
       " 'TSP_Data1.csv',\n",
       " 'TSP_Data2.csv',\n",
       " 'TSP_Data3.csv',\n",
       " 'TSP_Data4.csv',\n",
       " 'TSP_Data5.csv',\n",
       " 'TSP_Data6.csv',\n",
       " 'TSP_Data7.csv',\n",
       " 'TSP_Data8.csv',\n",
       " 'TSP_Data9.csv']"
      ]
     },
     "execution_count": 2,
     "metadata": {},
     "output_type": "execute_result"
    }
   ],
   "source": [
    "DATASET_DIR = '../5_ground_truth/Final_Dataset/'\n",
    "data_files = [i for i in os.listdir(DATASET_DIR) if i.endswith('.csv')]\n",
    "data_files"
   ]
  },
  {
   "cell_type": "code",
   "execution_count": 3,
   "metadata": {},
   "outputs": [
    {
     "data": {
      "text/html": [
       "<div>\n",
       "<style scoped>\n",
       "    .dataframe tbody tr th:only-of-type {\n",
       "        vertical-align: middle;\n",
       "    }\n",
       "\n",
       "    .dataframe tbody tr th {\n",
       "        vertical-align: top;\n",
       "    }\n",
       "\n",
       "    .dataframe thead th {\n",
       "        text-align: right;\n",
       "    }\n",
       "</style>\n",
       "<table border=\"1\" class=\"dataframe\">\n",
       "  <thead>\n",
       "    <tr style=\"text-align: right;\">\n",
       "      <th></th>\n",
       "      <th>DISTANCE_KM</th>\n",
       "      <th>EDGE(Node1_ID, Node2_ID)</th>\n",
       "      <th>NODE1_COORDS</th>\n",
       "      <th>NODE2_COORDS</th>\n",
       "      <th>GEODESIC_DISTANCE_KM</th>\n",
       "      <th>GEODESIC_ROUNDED_DISTANCE_KM</th>\n",
       "      <th>EDGE_IN_SOL</th>\n",
       "    </tr>\n",
       "  </thead>\n",
       "  <tbody>\n",
       "    <tr>\n",
       "      <td>0</td>\n",
       "      <td>108</td>\n",
       "      <td>(0, 1)</td>\n",
       "      <td>(53.891303, -1.746483)</td>\n",
       "      <td>(53.383309, -2.6226)</td>\n",
       "      <td>80.961034</td>\n",
       "      <td>81.0</td>\n",
       "      <td>False</td>\n",
       "    </tr>\n",
       "    <tr>\n",
       "      <td>1</td>\n",
       "      <td>384</td>\n",
       "      <td>(0, 2)</td>\n",
       "      <td>(53.891303, -1.746483)</td>\n",
       "      <td>(50.848774, 0.211594)</td>\n",
       "      <td>363.840033</td>\n",
       "      <td>364.0</td>\n",
       "      <td>False</td>\n",
       "    </tr>\n",
       "    <tr>\n",
       "      <td>2</td>\n",
       "      <td>11</td>\n",
       "      <td>(0, 3)</td>\n",
       "      <td>(53.891303, -1.746483)</td>\n",
       "      <td>(53.926187, -1.824431)</td>\n",
       "      <td>6.427843</td>\n",
       "      <td>6.0</td>\n",
       "      <td>False</td>\n",
       "    </tr>\n",
       "    <tr>\n",
       "      <td>3</td>\n",
       "      <td>168</td>\n",
       "      <td>(0, 4)</td>\n",
       "      <td>(53.891303, -1.746483)</td>\n",
       "      <td>(52.586267, -2.126056)</td>\n",
       "      <td>147.432268</td>\n",
       "      <td>147.0</td>\n",
       "      <td>False</td>\n",
       "    </tr>\n",
       "    <tr>\n",
       "      <td>4</td>\n",
       "      <td>402</td>\n",
       "      <td>(0, 5)</td>\n",
       "      <td>(53.891303, -1.746483)</td>\n",
       "      <td>(50.8511, 0.542925)</td>\n",
       "      <td>372.453433</td>\n",
       "      <td>372.0</td>\n",
       "      <td>False</td>\n",
       "    </tr>\n",
       "  </tbody>\n",
       "</table>\n",
       "</div>"
      ],
      "text/plain": [
       "   DISTANCE_KM EDGE(Node1_ID, Node2_ID)            NODE1_COORDS  \\\n",
       "0          108                   (0, 1)  (53.891303, -1.746483)   \n",
       "1          384                   (0, 2)  (53.891303, -1.746483)   \n",
       "2           11                   (0, 3)  (53.891303, -1.746483)   \n",
       "3          168                   (0, 4)  (53.891303, -1.746483)   \n",
       "4          402                   (0, 5)  (53.891303, -1.746483)   \n",
       "\n",
       "             NODE2_COORDS  GEODESIC_DISTANCE_KM  GEODESIC_ROUNDED_DISTANCE_KM  \\\n",
       "0    (53.383309, -2.6226)             80.961034                          81.0   \n",
       "1   (50.848774, 0.211594)            363.840033                         364.0   \n",
       "2  (53.926187, -1.824431)              6.427843                           6.0   \n",
       "3  (52.586267, -2.126056)            147.432268                         147.0   \n",
       "4     (50.8511, 0.542925)            372.453433                         372.0   \n",
       "\n",
       "   EDGE_IN_SOL  \n",
       "0        False  \n",
       "1        False  \n",
       "2        False  \n",
       "3        False  \n",
       "4        False  "
      ]
     },
     "execution_count": 3,
     "metadata": {},
     "output_type": "execute_result"
    }
   ],
   "source": [
    "df_TSP_list = [pd.read_csv(DATASET_DIR + file) for file in data_files]\n",
    "df_TSP_list[0].head()"
   ]
  },
  {
   "cell_type": "markdown",
   "metadata": {},
   "source": [
    "Some of the dtypes of the data may not be set correctly."
   ]
  },
  {
   "cell_type": "code",
   "execution_count": 5,
   "metadata": {},
   "outputs": [
    {
     "data": {
      "text/plain": [
       "(0, 1)"
      ]
     },
     "execution_count": 5,
     "metadata": {},
     "output_type": "execute_result"
    }
   ],
   "source": [
    "for i in range(len(df_TSP_list)):\n",
    "    df_TSP_list[i] = df_TSP_list[i].applymap(lambda x: eval(x) if isinstance(x, str) else x)\n",
    "    \n",
    "df_TSP_list[0].info()"
   ]
  },
  {
   "cell_type": "markdown",
   "metadata": {},
   "source": [
    "### Local Ranking\n",
    "\n",
    "This will be the rank of an edge by it's weight in comparison between the edges that are incident to the nodes that create this edge.\n",
    "\n",
    "<img src=\"figs/Local_Edge_Ranking.png\" style=\"width: 300px;\"/>\n",
    "\n",
    "The smaller the rank, the lower the weight is, in this local system. With this defintion of local edge ranking, ranks will go from range from $1$ to $2n-2$ (2 nodes with $n-1$ edges incident and 1 in common) where $n$ is the number of nodes in the graph. There will be a total of $2n-3$ to sample for each rank."
   ]
  },
  {
   "cell_type": "code",
   "execution_count": null,
   "metadata": {},
   "outputs": [],
   "source": [
    "#F.local_edge_rank(df_TSP, edge, metric='DISTANCE_KM')"
   ]
  },
  {
   "cell_type": "code",
   "execution_count": null,
   "metadata": {},
   "outputs": [],
   "source": [
    "#from dask.distributed import Client, progress\n",
    "#client = Client(n_workers=4, threads_per_worker=2, memory_limit='3GB')\n",
    "#client"
   ]
  },
  {
   "cell_type": "code",
   "execution_count": null,
   "metadata": {},
   "outputs": [],
   "source": [
    "#import dask.dataframe as dd\n",
    "\n",
    "#dd_series = dd.from_pandas(df_TSP['EDGE(Node1_ID, Node2_ID)'], npartitions=8)\n",
    "#dd_series"
   ]
  },
  {
   "cell_type": "code",
   "execution_count": null,
   "metadata": {},
   "outputs": [],
   "source": [
    "#res = dd_series.map_partitions(lambda series: series.apply(lambda x: F.local_edge_rank(df_TSP, x, metric='DISTANCE_KM')), meta=(None, 'i8'))\n",
    "#res.dtype"
   ]
  },
  {
   "cell_type": "code",
   "execution_count": null,
   "metadata": {},
   "outputs": [],
   "source": [
    "#local_ranks = res.compute()\n",
    "#local_ranks"
   ]
  },
  {
   "cell_type": "code",
   "execution_count": null,
   "metadata": {},
   "outputs": [],
   "source": []
  },
  {
   "cell_type": "markdown",
   "metadata": {},
   "source": [
    "### Global Ranking\n",
    "\n",
    "Similarly to Local edge ranking, this will rank the edges in the entire dateset."
   ]
  },
  {
   "cell_type": "code",
   "execution_count": 9,
   "metadata": {},
   "outputs": [
    {
     "data": {
      "text/html": [
       "<div>\n",
       "<style scoped>\n",
       "    .dataframe tbody tr th:only-of-type {\n",
       "        vertical-align: middle;\n",
       "    }\n",
       "\n",
       "    .dataframe tbody tr th {\n",
       "        vertical-align: top;\n",
       "    }\n",
       "\n",
       "    .dataframe thead th {\n",
       "        text-align: right;\n",
       "    }\n",
       "</style>\n",
       "<table border=\"1\" class=\"dataframe\">\n",
       "  <thead>\n",
       "    <tr style=\"text-align: right;\">\n",
       "      <th></th>\n",
       "      <th>DISTANCE_KM</th>\n",
       "      <th>EDGE(Node1_ID, Node2_ID)</th>\n",
       "      <th>NODE1_COORDS</th>\n",
       "      <th>NODE2_COORDS</th>\n",
       "      <th>GEODESIC_DISTANCE_KM</th>\n",
       "      <th>GEODESIC_ROUNDED_DISTANCE_KM</th>\n",
       "      <th>EDGE_IN_SOL</th>\n",
       "      <th>GLOBAL_RANK</th>\n",
       "    </tr>\n",
       "  </thead>\n",
       "  <tbody>\n",
       "    <tr>\n",
       "      <td>0</td>\n",
       "      <td>108</td>\n",
       "      <td>(0, 1)</td>\n",
       "      <td>(53.891303, -1.746483)</td>\n",
       "      <td>(53.383309, -2.6226)</td>\n",
       "      <td>80.961034</td>\n",
       "      <td>81.0</td>\n",
       "      <td>False</td>\n",
       "      <td>83596</td>\n",
       "    </tr>\n",
       "    <tr>\n",
       "      <td>1</td>\n",
       "      <td>384</td>\n",
       "      <td>(0, 2)</td>\n",
       "      <td>(53.891303, -1.746483)</td>\n",
       "      <td>(50.848774, 0.211594)</td>\n",
       "      <td>363.840033</td>\n",
       "      <td>364.0</td>\n",
       "      <td>False</td>\n",
       "      <td>396911</td>\n",
       "    </tr>\n",
       "    <tr>\n",
       "      <td>2</td>\n",
       "      <td>11</td>\n",
       "      <td>(0, 3)</td>\n",
       "      <td>(53.891303, -1.746483)</td>\n",
       "      <td>(53.926187, -1.824431)</td>\n",
       "      <td>6.427843</td>\n",
       "      <td>6.0</td>\n",
       "      <td>False</td>\n",
       "      <td>2752</td>\n",
       "    </tr>\n",
       "    <tr>\n",
       "      <td>3</td>\n",
       "      <td>168</td>\n",
       "      <td>(0, 4)</td>\n",
       "      <td>(53.891303, -1.746483)</td>\n",
       "      <td>(52.586267, -2.126056)</td>\n",
       "      <td>147.432268</td>\n",
       "      <td>147.0</td>\n",
       "      <td>False</td>\n",
       "      <td>156459</td>\n",
       "    </tr>\n",
       "    <tr>\n",
       "      <td>4</td>\n",
       "      <td>402</td>\n",
       "      <td>(0, 5)</td>\n",
       "      <td>(53.891303, -1.746483)</td>\n",
       "      <td>(50.8511, 0.542925)</td>\n",
       "      <td>372.453433</td>\n",
       "      <td>372.0</td>\n",
       "      <td>False</td>\n",
       "      <td>406968</td>\n",
       "    </tr>\n",
       "  </tbody>\n",
       "</table>\n",
       "</div>"
      ],
      "text/plain": [
       "   DISTANCE_KM EDGE(Node1_ID, Node2_ID)            NODE1_COORDS  \\\n",
       "0          108                   (0, 1)  (53.891303, -1.746483)   \n",
       "1          384                   (0, 2)  (53.891303, -1.746483)   \n",
       "2           11                   (0, 3)  (53.891303, -1.746483)   \n",
       "3          168                   (0, 4)  (53.891303, -1.746483)   \n",
       "4          402                   (0, 5)  (53.891303, -1.746483)   \n",
       "\n",
       "             NODE2_COORDS  GEODESIC_DISTANCE_KM  GEODESIC_ROUNDED_DISTANCE_KM  \\\n",
       "0    (53.383309, -2.6226)             80.961034                          81.0   \n",
       "1   (50.848774, 0.211594)            363.840033                         364.0   \n",
       "2  (53.926187, -1.824431)              6.427843                           6.0   \n",
       "3  (52.586267, -2.126056)            147.432268                         147.0   \n",
       "4     (50.8511, 0.542925)            372.453433                         372.0   \n",
       "\n",
       "   EDGE_IN_SOL  GLOBAL_RANK  \n",
       "0        False        83596  \n",
       "1        False       396911  \n",
       "2        False         2752  \n",
       "3        False       156459  \n",
       "4        False       406968  "
      ]
     },
     "execution_count": 9,
     "metadata": {},
     "output_type": "execute_result"
    }
   ],
   "source": [
    "for i in range(len(df_TSP_list)):\n",
    "    df_TSP_list[i] = df_TSP_list[i].sort_values('DISTANCE_KM')\n",
    "    df_TSP_list[i]['GLOBAL_RANK'] = range(1, df_TSP_list[i].shape[0] + 1)\n",
    "    df_TSP_list[i] = df_TSP_list[i].sort_index()\n",
    "\n",
    "df_TSP_list[0].head()"
   ]
  },
  {
   "cell_type": "markdown",
   "metadata": {},
   "source": [
    "### Edge Statistics\n",
    "\n",
    "These features will be show if an edge is in within certain quatiles."
   ]
  },
  {
   "cell_type": "code",
   "execution_count": 8,
   "metadata": {},
   "outputs": [
    {
     "data": {
      "text/plain": [
       "0.25    143.0\n",
       "0.50    241.0\n",
       "0.75    352.0\n",
       "Name: DISTANCE_KM, dtype: float64"
      ]
     },
     "execution_count": 8,
     "metadata": {},
     "output_type": "execute_result"
    }
   ],
   "source": [
    "df_TSP_list[0]['DISTANCE_KM'].quantile([0.25, 0.5, 0.75])"
   ]
  },
  {
   "cell_type": "code",
   "execution_count": 10,
   "metadata": {},
   "outputs": [
    {
     "data": {
      "text/html": [
       "<div>\n",
       "<style scoped>\n",
       "    .dataframe tbody tr th:only-of-type {\n",
       "        vertical-align: middle;\n",
       "    }\n",
       "\n",
       "    .dataframe tbody tr th {\n",
       "        vertical-align: top;\n",
       "    }\n",
       "\n",
       "    .dataframe thead th {\n",
       "        text-align: right;\n",
       "    }\n",
       "</style>\n",
       "<table border=\"1\" class=\"dataframe\">\n",
       "  <thead>\n",
       "    <tr style=\"text-align: right;\">\n",
       "      <th></th>\n",
       "      <th>DISTANCE_KM</th>\n",
       "      <th>EDGE(Node1_ID, Node2_ID)</th>\n",
       "      <th>NODE1_COORDS</th>\n",
       "      <th>NODE2_COORDS</th>\n",
       "      <th>GEODESIC_DISTANCE_KM</th>\n",
       "      <th>GEODESIC_ROUNDED_DISTANCE_KM</th>\n",
       "      <th>EDGE_IN_SOL</th>\n",
       "      <th>GLOBAL_RANK</th>\n",
       "      <th>IS_IN_1ST_QUARTILE</th>\n",
       "      <th>IS_IN_2ND_QUARTILE</th>\n",
       "      <th>IS_IN_3RD_QUARTILE</th>\n",
       "    </tr>\n",
       "  </thead>\n",
       "  <tbody>\n",
       "    <tr>\n",
       "      <td>0</td>\n",
       "      <td>108</td>\n",
       "      <td>(0, 1)</td>\n",
       "      <td>(53.891303, -1.746483)</td>\n",
       "      <td>(53.383309, -2.6226)</td>\n",
       "      <td>80.961034</td>\n",
       "      <td>81.0</td>\n",
       "      <td>False</td>\n",
       "      <td>83596</td>\n",
       "      <td>True</td>\n",
       "      <td>True</td>\n",
       "      <td>True</td>\n",
       "    </tr>\n",
       "    <tr>\n",
       "      <td>1</td>\n",
       "      <td>384</td>\n",
       "      <td>(0, 2)</td>\n",
       "      <td>(53.891303, -1.746483)</td>\n",
       "      <td>(50.848774, 0.211594)</td>\n",
       "      <td>363.840033</td>\n",
       "      <td>364.0</td>\n",
       "      <td>False</td>\n",
       "      <td>396911</td>\n",
       "      <td>False</td>\n",
       "      <td>False</td>\n",
       "      <td>False</td>\n",
       "    </tr>\n",
       "    <tr>\n",
       "      <td>2</td>\n",
       "      <td>11</td>\n",
       "      <td>(0, 3)</td>\n",
       "      <td>(53.891303, -1.746483)</td>\n",
       "      <td>(53.926187, -1.824431)</td>\n",
       "      <td>6.427843</td>\n",
       "      <td>6.0</td>\n",
       "      <td>False</td>\n",
       "      <td>2752</td>\n",
       "      <td>True</td>\n",
       "      <td>True</td>\n",
       "      <td>True</td>\n",
       "    </tr>\n",
       "    <tr>\n",
       "      <td>3</td>\n",
       "      <td>168</td>\n",
       "      <td>(0, 4)</td>\n",
       "      <td>(53.891303, -1.746483)</td>\n",
       "      <td>(52.586267, -2.126056)</td>\n",
       "      <td>147.432268</td>\n",
       "      <td>147.0</td>\n",
       "      <td>False</td>\n",
       "      <td>156459</td>\n",
       "      <td>False</td>\n",
       "      <td>True</td>\n",
       "      <td>True</td>\n",
       "    </tr>\n",
       "    <tr>\n",
       "      <td>4</td>\n",
       "      <td>402</td>\n",
       "      <td>(0, 5)</td>\n",
       "      <td>(53.891303, -1.746483)</td>\n",
       "      <td>(50.8511, 0.542925)</td>\n",
       "      <td>372.453433</td>\n",
       "      <td>372.0</td>\n",
       "      <td>False</td>\n",
       "      <td>406968</td>\n",
       "      <td>False</td>\n",
       "      <td>False</td>\n",
       "      <td>False</td>\n",
       "    </tr>\n",
       "  </tbody>\n",
       "</table>\n",
       "</div>"
      ],
      "text/plain": [
       "   DISTANCE_KM EDGE(Node1_ID, Node2_ID)            NODE1_COORDS  \\\n",
       "0          108                   (0, 1)  (53.891303, -1.746483)   \n",
       "1          384                   (0, 2)  (53.891303, -1.746483)   \n",
       "2           11                   (0, 3)  (53.891303, -1.746483)   \n",
       "3          168                   (0, 4)  (53.891303, -1.746483)   \n",
       "4          402                   (0, 5)  (53.891303, -1.746483)   \n",
       "\n",
       "             NODE2_COORDS  GEODESIC_DISTANCE_KM  GEODESIC_ROUNDED_DISTANCE_KM  \\\n",
       "0    (53.383309, -2.6226)             80.961034                          81.0   \n",
       "1   (50.848774, 0.211594)            363.840033                         364.0   \n",
       "2  (53.926187, -1.824431)              6.427843                           6.0   \n",
       "3  (52.586267, -2.126056)            147.432268                         147.0   \n",
       "4     (50.8511, 0.542925)            372.453433                         372.0   \n",
       "\n",
       "   EDGE_IN_SOL  GLOBAL_RANK  IS_IN_1ST_QUARTILE  IS_IN_2ND_QUARTILE  \\\n",
       "0        False        83596                True                True   \n",
       "1        False       396911               False               False   \n",
       "2        False         2752                True                True   \n",
       "3        False       156459               False                True   \n",
       "4        False       406968               False               False   \n",
       "\n",
       "   IS_IN_3RD_QUARTILE  \n",
       "0                True  \n",
       "1               False  \n",
       "2                True  \n",
       "3                True  \n",
       "4               False  "
      ]
     },
     "execution_count": 10,
     "metadata": {},
     "output_type": "execute_result"
    }
   ],
   "source": [
    "for i in range(len(df_TSP_list)):\n",
    "    df_TSP_list[i]['IS_IN_1ST_QUARTILE'] = df_TSP_list[i]['DISTANCE_KM'] < df_TSP_list[i]['DISTANCE_KM'].quantile(0.25)\n",
    "    df_TSP_list[i]['IS_IN_2ND_QUARTILE'] = df_TSP_list[i]['DISTANCE_KM'] < df_TSP_list[i]['DISTANCE_KM'].quantile(0.5)\n",
    "    df_TSP_list[i]['IS_IN_3RD_QUARTILE'] = df_TSP_list[i]['DISTANCE_KM'] < df_TSP_list[i]['DISTANCE_KM'].quantile(0.75)\n",
    "    \n",
    "df_TSP_list[0].head()"
   ]
  },
  {
   "cell_type": "markdown",
   "metadata": {},
   "source": [
    "Save dataset."
   ]
  },
  {
   "cell_type": "code",
   "execution_count": 11,
   "metadata": {},
   "outputs": [],
   "source": [
    "cols = ['DISTANCE_KM', 'GLOBAL_RANK', 'IS_IN_1ST_QUARTILE', 'IS_IN_2ND_QUARTILE', 'IS_IN_3RD_QUARTILE', 'EDGE_IN_SOL']\n",
    "\n",
    "for i in range(len(df_TSP_list)):\n",
    "    df_TSP_list[i][cols].to_csv('Feature_Dataset/TSP_Data{}.csv'.format(i), index=False, float_format='%.6f')"
   ]
  }
 ],
 "metadata": {
  "kernelspec": {
   "display_name": "Python 3",
   "language": "python",
   "name": "python3"
  },
  "language_info": {
   "codemirror_mode": {
    "name": "ipython",
    "version": 3
   },
   "file_extension": ".py",
   "mimetype": "text/x-python",
   "name": "python",
   "nbconvert_exporter": "python",
   "pygments_lexer": "ipython3",
   "version": "3.7.4"
  }
 },
 "nbformat": 4,
 "nbformat_minor": 4
}
