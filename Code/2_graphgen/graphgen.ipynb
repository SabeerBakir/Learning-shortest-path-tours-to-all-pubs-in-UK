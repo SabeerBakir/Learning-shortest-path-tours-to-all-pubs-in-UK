{
 "cells": [
  {
   "cell_type": "markdown",
   "metadata": {},
   "source": [
    "# Graph Generator\n",
    "\n",
    "> This notebook is used to make graphs for TSP."
   ]
  },
  {
   "cell_type": "code",
   "execution_count": null,
   "metadata": {},
   "outputs": [],
   "source": [
    "import pandas as pd"
   ]
  },
  {
   "cell_type": "markdown",
   "metadata": {},
   "source": [
    "Open pubs dataset."
   ]
  },
  {
   "cell_type": "code",
   "execution_count": null,
   "metadata": {},
   "outputs": [],
   "source": [
    "df_full = pd.read_csv('../1_pubs_crawler/pubs.csv')\n",
    "df_full.head()"
   ]
  },
  {
   "cell_type": "markdown",
   "metadata": {},
   "source": [
    "Select a random subset of pubs of a predermined size."
   ]
  },
  {
   "cell_type": "code",
   "execution_count": null,
   "metadata": {},
   "outputs": [],
   "source": [
    "SAMPLE_SIZE = 1000\n",
    "\n",
    "df_full.sample(SAMPLE_SIZE)"
   ]
  },
  {
   "cell_type": "markdown",
   "metadata": {},
   "source": [
    "Remove these without replacement."
   ]
  },
  {
   "cell_type": "code",
   "execution_count": null,
   "metadata": {},
   "outputs": [],
   "source": [
    "n_subsets = 10 # number of subsets\n",
    "\n",
    "assert(n_subsets * SAMPLE_SIZE < len(df_full)) # Make sure there is enough data to take samples without replacement\n",
    "\n",
    "subsets = []\n",
    "\n",
    "for i in range(n_subsets):\n",
    "    df_temp = df_full.sample(SAMPLE_SIZE)\n",
    "    subsets.append(df_temp)\n",
    "    df_full.drop(df_temp.index, inplace=True)\n",
    "    \n",
    "print(\"Number of subsets:\" + str(len(subsets)))"
   ]
  },
  {
   "cell_type": "markdown",
   "metadata": {},
   "source": [
    "Reset the index numbers."
   ]
  },
  {
   "cell_type": "code",
   "execution_count": null,
   "metadata": {},
   "outputs": [],
   "source": [
    "for sub in subsets:\n",
    "    # sub.set_index(pd.Index([i for i in range(1,len(sub)+1)]), inplace=True)\n",
    "    sub.reset_index(inplace=True)\n",
    "    \n",
    "subsets[0].head()"
   ]
  },
  {
   "cell_type": "markdown",
   "metadata": {},
   "source": [
    "Define a function to create .tsp files to run with the Concorde."
   ]
  },
  {
   "cell_type": "code",
   "execution_count": null,
   "metadata": {},
   "outputs": [],
   "source": [
    "def tsp_file(data, name='unnamed', DIR='.'):\n",
    "    \"\"\"\n",
    "    Arguements:\n",
    "    name -- Name of the TSP file.\n",
    "    data -- dataframe containing longitude,latitude and indexed starting from 1\n",
    "    \n",
    "    Creates a <name>.tsp file in the .tsp format\n",
    "    \"\"\"\n",
    "    \n",
    "    file = open(DIR + \"/\" + name + \".tsp\", \"w+\")\n",
    "    \n",
    "    file.write(\"NAME: \" + name + \"\\n\")\n",
    "    file.write(\"TYPE: TSP\\n\")\n",
    "    file.write(\"COMMENT: \" + str(len(data)) + \" pub locations in the UK\\n\")\n",
    "    file.write(\"DIMENSION: \" + str(len(data)) + \"\\n\")\n",
    "    file.write(\"EDGE_WEIGHT_TYPE: GEO\\n\") # This will make weights in kilometers by approximating the earth as a sphere\n",
    "    file.write(\"NODE_COORD_SECTION\\n\")\n",
    "    \n",
    "    for i in range(len(data)):\n",
    "        file.write(\"{} {:.6f} {:.6f}\\n\".format(data.index[i], data['latitude'].iloc[i], data['longitude'].iloc[i]))\n",
    "    \n",
    "    file.close()"
   ]
  },
  {
   "cell_type": "markdown",
   "metadata": {},
   "source": [
    "Convert the subsets to .tsp files."
   ]
  },
  {
   "cell_type": "code",
   "execution_count": null,
   "metadata": {},
   "outputs": [],
   "source": [
    "for sub in enumerate(subsets):\n",
    "    tsp_file(sub[1], 'Graph'+str(sub[0]), DIR='./Graphs')"
   ]
  }
 ],
 "metadata": {
  "kernelspec": {
   "display_name": "Python 3",
   "language": "python",
   "name": "python3"
  },
  "language_info": {
   "codemirror_mode": {
    "name": "ipython",
    "version": 3
   },
   "file_extension": ".py",
   "mimetype": "text/x-python",
   "name": "python",
   "nbconvert_exporter": "python",
   "pygments_lexer": "ipython3",
   "version": "3.7.4"
  }
 },
 "nbformat": 4,
 "nbformat_minor": 4
}
