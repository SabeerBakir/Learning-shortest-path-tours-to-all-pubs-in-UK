{
 "cells": [
  {
   "cell_type": "markdown",
   "metadata": {},
   "source": [
    "# Edge Dataset\n",
    "\n",
    "This notebook will convert the `Graph*.edges` files into `.csv` files."
   ]
  },
  {
   "cell_type": "code",
   "execution_count": 1,
   "metadata": {},
   "outputs": [],
   "source": [
    "import pandas as pd\n",
    "import numpy as np"
   ]
  },
  {
   "cell_type": "markdown",
   "metadata": {},
   "source": [
    "Define necessary directory paths."
   ]
  },
  {
   "cell_type": "code",
   "execution_count": 2,
   "metadata": {},
   "outputs": [],
   "source": [
    "GRAPHS_DIR = '../graphgen/Graphs'\n",
    "EDGES_DIR = '../edgegen/'"
   ]
  },
  {
   "cell_type": "markdown",
   "metadata": {},
   "source": [
    "#### Convert these edges files to CSVs"
   ]
  },
  {
   "cell_type": "markdown",
   "metadata": {},
   "source": [
    "Open edge file."
   ]
  },
  {
   "cell_type": "code",
   "execution_count": 3,
   "metadata": {},
   "outputs": [
    {
     "data": {
      "text/html": [
       "<div>\n",
       "<style scoped>\n",
       "    .dataframe tbody tr th:only-of-type {\n",
       "        vertical-align: middle;\n",
       "    }\n",
       "\n",
       "    .dataframe tbody tr th {\n",
       "        vertical-align: top;\n",
       "    }\n",
       "\n",
       "    .dataframe thead th {\n",
       "        text-align: right;\n",
       "    }\n",
       "</style>\n",
       "<table border=\"1\" class=\"dataframe\">\n",
       "  <thead>\n",
       "    <tr style=\"text-align: right;\">\n",
       "      <th></th>\n",
       "      <th>Node1_ID</th>\n",
       "      <th>Node2_ID</th>\n",
       "      <th>EUCLIDEAN_ROUNDED_DISTANCE</th>\n",
       "    </tr>\n",
       "  </thead>\n",
       "  <tbody>\n",
       "    <tr>\n",
       "      <td>0</td>\n",
       "      <td>0</td>\n",
       "      <td>1</td>\n",
       "      <td>2</td>\n",
       "    </tr>\n",
       "    <tr>\n",
       "      <td>1</td>\n",
       "      <td>0</td>\n",
       "      <td>2</td>\n",
       "      <td>0</td>\n",
       "    </tr>\n",
       "    <tr>\n",
       "      <td>2</td>\n",
       "      <td>0</td>\n",
       "      <td>3</td>\n",
       "      <td>3</td>\n",
       "    </tr>\n",
       "    <tr>\n",
       "      <td>3</td>\n",
       "      <td>0</td>\n",
       "      <td>4</td>\n",
       "      <td>5</td>\n",
       "    </tr>\n",
       "    <tr>\n",
       "      <td>4</td>\n",
       "      <td>0</td>\n",
       "      <td>5</td>\n",
       "      <td>4</td>\n",
       "    </tr>\n",
       "  </tbody>\n",
       "</table>\n",
       "</div>"
      ],
      "text/plain": [
       "   Node1_ID  Node2_ID  EUCLIDEAN_ROUNDED_DISTANCE\n",
       "0         0         1                           2\n",
       "1         0         2                           0\n",
       "2         0         3                           3\n",
       "3         0         4                           5\n",
       "4         0         5                           4"
      ]
     },
     "execution_count": 3,
     "metadata": {},
     "output_type": "execute_result"
    }
   ],
   "source": [
    "df_edges = pd.read_csv(EDGES_DIR + 'Graph0.edges', delimiter=' ', skiprows=[0], names=['Node1_ID', 'Node2_ID', 'EUCLIDEAN_ROUNDED_DISTANCE'])\n",
    "df_edges.head()"
   ]
  },
  {
   "cell_type": "markdown",
   "metadata": {},
   "source": [
    "Open Graph file to get coordinates."
   ]
  },
  {
   "cell_type": "code",
   "execution_count": 4,
   "metadata": {},
   "outputs": [
    {
     "data": {
      "text/html": [
       "<div>\n",
       "<style scoped>\n",
       "    .dataframe tbody tr th:only-of-type {\n",
       "        vertical-align: middle;\n",
       "    }\n",
       "\n",
       "    .dataframe tbody tr th {\n",
       "        vertical-align: top;\n",
       "    }\n",
       "\n",
       "    .dataframe thead th {\n",
       "        text-align: right;\n",
       "    }\n",
       "</style>\n",
       "<table border=\"1\" class=\"dataframe\">\n",
       "  <thead>\n",
       "    <tr style=\"text-align: right;\">\n",
       "      <th></th>\n",
       "      <th>NODE_ID</th>\n",
       "      <th>LONGITUDE</th>\n",
       "      <th>LATITUDE</th>\n",
       "    </tr>\n",
       "  </thead>\n",
       "  <tbody>\n",
       "    <tr>\n",
       "      <td>0</td>\n",
       "      <td>0</td>\n",
       "      <td>-0.216122</td>\n",
       "      <td>51.499286</td>\n",
       "    </tr>\n",
       "    <tr>\n",
       "      <td>1</td>\n",
       "      <td>1</td>\n",
       "      <td>-1.761813</td>\n",
       "      <td>52.483136</td>\n",
       "    </tr>\n",
       "    <tr>\n",
       "      <td>2</td>\n",
       "      <td>2</td>\n",
       "      <td>-0.275980</td>\n",
       "      <td>51.941321</td>\n",
       "    </tr>\n",
       "    <tr>\n",
       "      <td>3</td>\n",
       "      <td>3</td>\n",
       "      <td>-2.246072</td>\n",
       "      <td>53.479275</td>\n",
       "    </tr>\n",
       "    <tr>\n",
       "      <td>4</td>\n",
       "      <td>4</td>\n",
       "      <td>-3.013794</td>\n",
       "      <td>56.186123</td>\n",
       "    </tr>\n",
       "  </tbody>\n",
       "</table>\n",
       "</div>"
      ],
      "text/plain": [
       "   NODE_ID  LONGITUDE   LATITUDE\n",
       "0        0  -0.216122  51.499286\n",
       "1        1  -1.761813  52.483136\n",
       "2        2  -0.275980  51.941321\n",
       "3        3  -2.246072  53.479275\n",
       "4        4  -3.013794  56.186123"
      ]
     },
     "execution_count": 4,
     "metadata": {},
     "output_type": "execute_result"
    }
   ],
   "source": [
    "df_graph = pd.read_csv(GRAPHS_DIR + '/Graph0.tsp', delimiter=' ', \n",
    "                       skiprows=[i for i in range(6)], \n",
    "                       names=['NODE_ID', 'LONGITUDE', 'LATITUDE'])\n",
    "df_graph.head()"
   ]
  },
  {
   "cell_type": "markdown",
   "metadata": {},
   "source": [
    "Join coordinates on the node IDs"
   ]
  },
  {
   "cell_type": "code",
   "execution_count": 5,
   "metadata": {},
   "outputs": [
    {
     "data": {
      "text/html": [
       "<div>\n",
       "<style scoped>\n",
       "    .dataframe tbody tr th:only-of-type {\n",
       "        vertical-align: middle;\n",
       "    }\n",
       "\n",
       "    .dataframe tbody tr th {\n",
       "        vertical-align: top;\n",
       "    }\n",
       "\n",
       "    .dataframe thead th {\n",
       "        text-align: right;\n",
       "    }\n",
       "</style>\n",
       "<table border=\"1\" class=\"dataframe\">\n",
       "  <thead>\n",
       "    <tr style=\"text-align: right;\">\n",
       "      <th></th>\n",
       "      <th>Node1_ID</th>\n",
       "      <th>Node2_ID</th>\n",
       "      <th>EUCLIDEAN_ROUNDED_DISTANCE</th>\n",
       "      <th>LONGITUDE_NODE_1</th>\n",
       "      <th>LATITUDE_NODE_1</th>\n",
       "    </tr>\n",
       "  </thead>\n",
       "  <tbody>\n",
       "    <tr>\n",
       "      <td>0</td>\n",
       "      <td>0</td>\n",
       "      <td>1</td>\n",
       "      <td>2</td>\n",
       "      <td>-0.216122</td>\n",
       "      <td>51.499286</td>\n",
       "    </tr>\n",
       "    <tr>\n",
       "      <td>1</td>\n",
       "      <td>0</td>\n",
       "      <td>2</td>\n",
       "      <td>0</td>\n",
       "      <td>-0.216122</td>\n",
       "      <td>51.499286</td>\n",
       "    </tr>\n",
       "    <tr>\n",
       "      <td>2</td>\n",
       "      <td>0</td>\n",
       "      <td>3</td>\n",
       "      <td>3</td>\n",
       "      <td>-0.216122</td>\n",
       "      <td>51.499286</td>\n",
       "    </tr>\n",
       "    <tr>\n",
       "      <td>3</td>\n",
       "      <td>0</td>\n",
       "      <td>4</td>\n",
       "      <td>5</td>\n",
       "      <td>-0.216122</td>\n",
       "      <td>51.499286</td>\n",
       "    </tr>\n",
       "    <tr>\n",
       "      <td>4</td>\n",
       "      <td>0</td>\n",
       "      <td>5</td>\n",
       "      <td>4</td>\n",
       "      <td>-0.216122</td>\n",
       "      <td>51.499286</td>\n",
       "    </tr>\n",
       "  </tbody>\n",
       "</table>\n",
       "</div>"
      ],
      "text/plain": [
       "   Node1_ID  Node2_ID  EUCLIDEAN_ROUNDED_DISTANCE  LONGITUDE_NODE_1  \\\n",
       "0         0         1                           2         -0.216122   \n",
       "1         0         2                           0         -0.216122   \n",
       "2         0         3                           3         -0.216122   \n",
       "3         0         4                           5         -0.216122   \n",
       "4         0         5                           4         -0.216122   \n",
       "\n",
       "   LATITUDE_NODE_1  \n",
       "0        51.499286  \n",
       "1        51.499286  \n",
       "2        51.499286  \n",
       "3        51.499286  \n",
       "4        51.499286  "
      ]
     },
     "execution_count": 5,
     "metadata": {},
     "output_type": "execute_result"
    }
   ],
   "source": [
    "df_edges = df_edges.join(df_graph, how='left', on='Node1_ID') \\\n",
    "        .rename(columns={'LONGITUDE': 'LONGITUDE_NODE_1', \n",
    "                         'LATITUDE': 'LATITUDE_NODE_1'})      \\\n",
    "        .drop('NODE_ID', axis=1)\n",
    "df_edges.head()"
   ]
  },
  {
   "cell_type": "markdown",
   "metadata": {},
   "source": [
    "Repeat for the other node in each edge."
   ]
  },
  {
   "cell_type": "code",
   "execution_count": 6,
   "metadata": {},
   "outputs": [
    {
     "data": {
      "text/html": [
       "<div>\n",
       "<style scoped>\n",
       "    .dataframe tbody tr th:only-of-type {\n",
       "        vertical-align: middle;\n",
       "    }\n",
       "\n",
       "    .dataframe tbody tr th {\n",
       "        vertical-align: top;\n",
       "    }\n",
       "\n",
       "    .dataframe thead th {\n",
       "        text-align: right;\n",
       "    }\n",
       "</style>\n",
       "<table border=\"1\" class=\"dataframe\">\n",
       "  <thead>\n",
       "    <tr style=\"text-align: right;\">\n",
       "      <th></th>\n",
       "      <th>Node1_ID</th>\n",
       "      <th>Node2_ID</th>\n",
       "      <th>EUCLIDEAN_ROUNDED_DISTANCE</th>\n",
       "      <th>LONGITUDE_NODE_1</th>\n",
       "      <th>LATITUDE_NODE_1</th>\n",
       "      <th>LONGITUDE_NODE_2</th>\n",
       "      <th>LATITUDE_NODE_2</th>\n",
       "    </tr>\n",
       "  </thead>\n",
       "  <tbody>\n",
       "    <tr>\n",
       "      <td>0</td>\n",
       "      <td>0</td>\n",
       "      <td>1</td>\n",
       "      <td>2</td>\n",
       "      <td>-0.216122</td>\n",
       "      <td>51.499286</td>\n",
       "      <td>-1.761813</td>\n",
       "      <td>52.483136</td>\n",
       "    </tr>\n",
       "    <tr>\n",
       "      <td>1</td>\n",
       "      <td>0</td>\n",
       "      <td>2</td>\n",
       "      <td>0</td>\n",
       "      <td>-0.216122</td>\n",
       "      <td>51.499286</td>\n",
       "      <td>-0.275980</td>\n",
       "      <td>51.941321</td>\n",
       "    </tr>\n",
       "    <tr>\n",
       "      <td>2</td>\n",
       "      <td>0</td>\n",
       "      <td>3</td>\n",
       "      <td>3</td>\n",
       "      <td>-0.216122</td>\n",
       "      <td>51.499286</td>\n",
       "      <td>-2.246072</td>\n",
       "      <td>53.479275</td>\n",
       "    </tr>\n",
       "    <tr>\n",
       "      <td>3</td>\n",
       "      <td>0</td>\n",
       "      <td>4</td>\n",
       "      <td>5</td>\n",
       "      <td>-0.216122</td>\n",
       "      <td>51.499286</td>\n",
       "      <td>-3.013794</td>\n",
       "      <td>56.186123</td>\n",
       "    </tr>\n",
       "    <tr>\n",
       "      <td>4</td>\n",
       "      <td>0</td>\n",
       "      <td>5</td>\n",
       "      <td>4</td>\n",
       "      <td>-0.216122</td>\n",
       "      <td>51.499286</td>\n",
       "      <td>-3.606638</td>\n",
       "      <td>50.530432</td>\n",
       "    </tr>\n",
       "  </tbody>\n",
       "</table>\n",
       "</div>"
      ],
      "text/plain": [
       "   Node1_ID  Node2_ID  EUCLIDEAN_ROUNDED_DISTANCE  LONGITUDE_NODE_1  \\\n",
       "0         0         1                           2         -0.216122   \n",
       "1         0         2                           0         -0.216122   \n",
       "2         0         3                           3         -0.216122   \n",
       "3         0         4                           5         -0.216122   \n",
       "4         0         5                           4         -0.216122   \n",
       "\n",
       "   LATITUDE_NODE_1  LONGITUDE_NODE_2  LATITUDE_NODE_2  \n",
       "0        51.499286         -1.761813        52.483136  \n",
       "1        51.499286         -0.275980        51.941321  \n",
       "2        51.499286         -2.246072        53.479275  \n",
       "3        51.499286         -3.013794        56.186123  \n",
       "4        51.499286         -3.606638        50.530432  "
      ]
     },
     "execution_count": 6,
     "metadata": {},
     "output_type": "execute_result"
    }
   ],
   "source": [
    "df_edges = df_edges.join(df_graph, how='left', on='Node2_ID') \\\n",
    "        .rename(columns={'LONGITUDE': 'LONGITUDE_NODE_2', \n",
    "                         'LATITUDE': 'LATITUDE_NODE_2'})      \\\n",
    "        .drop('NODE_ID', axis=1)\n",
    "df_edges.head()"
   ]
  },
  {
   "cell_type": "markdown",
   "metadata": {},
   "source": [
    "Combine columns to make tuples that will be be our edges."
   ]
  },
  {
   "cell_type": "code",
   "execution_count": 7,
   "metadata": {},
   "outputs": [
    {
     "data": {
      "text/html": [
       "<div>\n",
       "<style scoped>\n",
       "    .dataframe tbody tr th:only-of-type {\n",
       "        vertical-align: middle;\n",
       "    }\n",
       "\n",
       "    .dataframe tbody tr th {\n",
       "        vertical-align: top;\n",
       "    }\n",
       "\n",
       "    .dataframe thead th {\n",
       "        text-align: right;\n",
       "    }\n",
       "</style>\n",
       "<table border=\"1\" class=\"dataframe\">\n",
       "  <thead>\n",
       "    <tr style=\"text-align: right;\">\n",
       "      <th></th>\n",
       "      <th>EUCLIDEAN_ROUNDED_DISTANCE</th>\n",
       "      <th>LONGITUDE_NODE_1</th>\n",
       "      <th>LATITUDE_NODE_1</th>\n",
       "      <th>LONGITUDE_NODE_2</th>\n",
       "      <th>LATITUDE_NODE_2</th>\n",
       "      <th>EDGE(Node1_ID, Node2_ID)</th>\n",
       "    </tr>\n",
       "  </thead>\n",
       "  <tbody>\n",
       "    <tr>\n",
       "      <td>0</td>\n",
       "      <td>2</td>\n",
       "      <td>-0.216122</td>\n",
       "      <td>51.499286</td>\n",
       "      <td>-1.761813</td>\n",
       "      <td>52.483136</td>\n",
       "      <td>(0, 1)</td>\n",
       "    </tr>\n",
       "    <tr>\n",
       "      <td>1</td>\n",
       "      <td>0</td>\n",
       "      <td>-0.216122</td>\n",
       "      <td>51.499286</td>\n",
       "      <td>-0.275980</td>\n",
       "      <td>51.941321</td>\n",
       "      <td>(0, 2)</td>\n",
       "    </tr>\n",
       "    <tr>\n",
       "      <td>2</td>\n",
       "      <td>3</td>\n",
       "      <td>-0.216122</td>\n",
       "      <td>51.499286</td>\n",
       "      <td>-2.246072</td>\n",
       "      <td>53.479275</td>\n",
       "      <td>(0, 3)</td>\n",
       "    </tr>\n",
       "    <tr>\n",
       "      <td>3</td>\n",
       "      <td>5</td>\n",
       "      <td>-0.216122</td>\n",
       "      <td>51.499286</td>\n",
       "      <td>-3.013794</td>\n",
       "      <td>56.186123</td>\n",
       "      <td>(0, 4)</td>\n",
       "    </tr>\n",
       "    <tr>\n",
       "      <td>4</td>\n",
       "      <td>4</td>\n",
       "      <td>-0.216122</td>\n",
       "      <td>51.499286</td>\n",
       "      <td>-3.606638</td>\n",
       "      <td>50.530432</td>\n",
       "      <td>(0, 5)</td>\n",
       "    </tr>\n",
       "  </tbody>\n",
       "</table>\n",
       "</div>"
      ],
      "text/plain": [
       "   EUCLIDEAN_ROUNDED_DISTANCE  LONGITUDE_NODE_1  LATITUDE_NODE_1  \\\n",
       "0                           2         -0.216122        51.499286   \n",
       "1                           0         -0.216122        51.499286   \n",
       "2                           3         -0.216122        51.499286   \n",
       "3                           5         -0.216122        51.499286   \n",
       "4                           4         -0.216122        51.499286   \n",
       "\n",
       "   LONGITUDE_NODE_2  LATITUDE_NODE_2 EDGE(Node1_ID, Node2_ID)  \n",
       "0         -1.761813        52.483136                   (0, 1)  \n",
       "1         -0.275980        51.941321                   (0, 2)  \n",
       "2         -2.246072        53.479275                   (0, 3)  \n",
       "3         -3.013794        56.186123                   (0, 4)  \n",
       "4         -3.606638        50.530432                   (0, 5)  "
      ]
     },
     "execution_count": 7,
     "metadata": {},
     "output_type": "execute_result"
    }
   ],
   "source": [
    "df_edges['EDGE(Node1_ID, Node2_ID)'] = list(zip(df_edges['Node1_ID'], df_edges['Node2_ID']))\n",
    "df_edges = df_edges.drop(['Node1_ID', 'Node2_ID'], axis=1)\n",
    "df_edges.head()"
   ]
  },
  {
   "cell_type": "markdown",
   "metadata": {},
   "source": [
    "Convert Longitude and Latitiude columns to tuples."
   ]
  },
  {
   "cell_type": "code",
   "execution_count": 8,
   "metadata": {},
   "outputs": [
    {
     "data": {
      "text/html": [
       "<div>\n",
       "<style scoped>\n",
       "    .dataframe tbody tr th:only-of-type {\n",
       "        vertical-align: middle;\n",
       "    }\n",
       "\n",
       "    .dataframe tbody tr th {\n",
       "        vertical-align: top;\n",
       "    }\n",
       "\n",
       "    .dataframe thead th {\n",
       "        text-align: right;\n",
       "    }\n",
       "</style>\n",
       "<table border=\"1\" class=\"dataframe\">\n",
       "  <thead>\n",
       "    <tr style=\"text-align: right;\">\n",
       "      <th></th>\n",
       "      <th>EUCLIDEAN_ROUNDED_DISTANCE</th>\n",
       "      <th>LONGITUDE_NODE_2</th>\n",
       "      <th>LATITUDE_NODE_2</th>\n",
       "      <th>EDGE(Node1_ID, Node2_ID)</th>\n",
       "      <th>NODE1_COORDS</th>\n",
       "    </tr>\n",
       "  </thead>\n",
       "  <tbody>\n",
       "    <tr>\n",
       "      <td>0</td>\n",
       "      <td>2</td>\n",
       "      <td>-1.761813</td>\n",
       "      <td>52.483136</td>\n",
       "      <td>(0, 1)</td>\n",
       "      <td>(-0.21612199999999998, 51.499286)</td>\n",
       "    </tr>\n",
       "    <tr>\n",
       "      <td>1</td>\n",
       "      <td>0</td>\n",
       "      <td>-0.275980</td>\n",
       "      <td>51.941321</td>\n",
       "      <td>(0, 2)</td>\n",
       "      <td>(-0.21612199999999998, 51.499286)</td>\n",
       "    </tr>\n",
       "    <tr>\n",
       "      <td>2</td>\n",
       "      <td>3</td>\n",
       "      <td>-2.246072</td>\n",
       "      <td>53.479275</td>\n",
       "      <td>(0, 3)</td>\n",
       "      <td>(-0.21612199999999998, 51.499286)</td>\n",
       "    </tr>\n",
       "    <tr>\n",
       "      <td>3</td>\n",
       "      <td>5</td>\n",
       "      <td>-3.013794</td>\n",
       "      <td>56.186123</td>\n",
       "      <td>(0, 4)</td>\n",
       "      <td>(-0.21612199999999998, 51.499286)</td>\n",
       "    </tr>\n",
       "    <tr>\n",
       "      <td>4</td>\n",
       "      <td>4</td>\n",
       "      <td>-3.606638</td>\n",
       "      <td>50.530432</td>\n",
       "      <td>(0, 5)</td>\n",
       "      <td>(-0.21612199999999998, 51.499286)</td>\n",
       "    </tr>\n",
       "  </tbody>\n",
       "</table>\n",
       "</div>"
      ],
      "text/plain": [
       "   EUCLIDEAN_ROUNDED_DISTANCE  LONGITUDE_NODE_2  LATITUDE_NODE_2  \\\n",
       "0                           2         -1.761813        52.483136   \n",
       "1                           0         -0.275980        51.941321   \n",
       "2                           3         -2.246072        53.479275   \n",
       "3                           5         -3.013794        56.186123   \n",
       "4                           4         -3.606638        50.530432   \n",
       "\n",
       "  EDGE(Node1_ID, Node2_ID)                       NODE1_COORDS  \n",
       "0                   (0, 1)  (-0.21612199999999998, 51.499286)  \n",
       "1                   (0, 2)  (-0.21612199999999998, 51.499286)  \n",
       "2                   (0, 3)  (-0.21612199999999998, 51.499286)  \n",
       "3                   (0, 4)  (-0.21612199999999998, 51.499286)  \n",
       "4                   (0, 5)  (-0.21612199999999998, 51.499286)  "
      ]
     },
     "execution_count": 8,
     "metadata": {},
     "output_type": "execute_result"
    }
   ],
   "source": [
    "df_edges['NODE1_COORDS'] = list(zip(df_edges['LONGITUDE_NODE_1'], df_edges['LATITUDE_NODE_1']))\n",
    "df_edges = df_edges.drop(['LONGITUDE_NODE_1', 'LATITUDE_NODE_1'], axis=1)\n",
    "df_edges.head()"
   ]
  },
  {
   "cell_type": "markdown",
   "metadata": {},
   "source": [
    "Repeat for Node2's coordinates."
   ]
  },
  {
   "cell_type": "code",
   "execution_count": 9,
   "metadata": {},
   "outputs": [
    {
     "data": {
      "text/html": [
       "<div>\n",
       "<style scoped>\n",
       "    .dataframe tbody tr th:only-of-type {\n",
       "        vertical-align: middle;\n",
       "    }\n",
       "\n",
       "    .dataframe tbody tr th {\n",
       "        vertical-align: top;\n",
       "    }\n",
       "\n",
       "    .dataframe thead th {\n",
       "        text-align: right;\n",
       "    }\n",
       "</style>\n",
       "<table border=\"1\" class=\"dataframe\">\n",
       "  <thead>\n",
       "    <tr style=\"text-align: right;\">\n",
       "      <th></th>\n",
       "      <th>EUCLIDEAN_ROUNDED_DISTANCE</th>\n",
       "      <th>EDGE(Node1_ID, Node2_ID)</th>\n",
       "      <th>NODE1_COORDS</th>\n",
       "      <th>NODE2_COORDS</th>\n",
       "    </tr>\n",
       "  </thead>\n",
       "  <tbody>\n",
       "    <tr>\n",
       "      <td>0</td>\n",
       "      <td>2</td>\n",
       "      <td>(0, 1)</td>\n",
       "      <td>(-0.21612199999999998, 51.499286)</td>\n",
       "      <td>(-1.761813, 52.483136)</td>\n",
       "    </tr>\n",
       "    <tr>\n",
       "      <td>1</td>\n",
       "      <td>0</td>\n",
       "      <td>(0, 2)</td>\n",
       "      <td>(-0.21612199999999998, 51.499286)</td>\n",
       "      <td>(-0.27598, 51.941321)</td>\n",
       "    </tr>\n",
       "    <tr>\n",
       "      <td>2</td>\n",
       "      <td>3</td>\n",
       "      <td>(0, 3)</td>\n",
       "      <td>(-0.21612199999999998, 51.499286)</td>\n",
       "      <td>(-2.2460720000000003, 53.479275)</td>\n",
       "    </tr>\n",
       "    <tr>\n",
       "      <td>3</td>\n",
       "      <td>5</td>\n",
       "      <td>(0, 4)</td>\n",
       "      <td>(-0.21612199999999998, 51.499286)</td>\n",
       "      <td>(-3.013794, 56.186122999999995)</td>\n",
       "    </tr>\n",
       "    <tr>\n",
       "      <td>4</td>\n",
       "      <td>4</td>\n",
       "      <td>(0, 5)</td>\n",
       "      <td>(-0.21612199999999998, 51.499286)</td>\n",
       "      <td>(-3.606638, 50.530432)</td>\n",
       "    </tr>\n",
       "  </tbody>\n",
       "</table>\n",
       "</div>"
      ],
      "text/plain": [
       "   EUCLIDEAN_ROUNDED_DISTANCE EDGE(Node1_ID, Node2_ID)  \\\n",
       "0                           2                   (0, 1)   \n",
       "1                           0                   (0, 2)   \n",
       "2                           3                   (0, 3)   \n",
       "3                           5                   (0, 4)   \n",
       "4                           4                   (0, 5)   \n",
       "\n",
       "                        NODE1_COORDS                      NODE2_COORDS  \n",
       "0  (-0.21612199999999998, 51.499286)            (-1.761813, 52.483136)  \n",
       "1  (-0.21612199999999998, 51.499286)             (-0.27598, 51.941321)  \n",
       "2  (-0.21612199999999998, 51.499286)  (-2.2460720000000003, 53.479275)  \n",
       "3  (-0.21612199999999998, 51.499286)   (-3.013794, 56.186122999999995)  \n",
       "4  (-0.21612199999999998, 51.499286)            (-3.606638, 50.530432)  "
      ]
     },
     "execution_count": 9,
     "metadata": {},
     "output_type": "execute_result"
    }
   ],
   "source": [
    "df_edges['NODE2_COORDS'] = list(zip(df_edges['LONGITUDE_NODE_2'], df_edges['LATITUDE_NODE_2']))\n",
    "df_edges = df_edges.drop(['LONGITUDE_NODE_2', 'LATITUDE_NODE_2'], axis=1)\n",
    "df_edges.head()"
   ]
  },
  {
   "cell_type": "markdown",
   "metadata": {},
   "source": [
    "Compute the unrounded distance between the nodes."
   ]
  },
  {
   "cell_type": "code",
   "execution_count": 10,
   "metadata": {},
   "outputs": [
    {
     "data": {
      "text/html": [
       "<div>\n",
       "<style scoped>\n",
       "    .dataframe tbody tr th:only-of-type {\n",
       "        vertical-align: middle;\n",
       "    }\n",
       "\n",
       "    .dataframe tbody tr th {\n",
       "        vertical-align: top;\n",
       "    }\n",
       "\n",
       "    .dataframe thead th {\n",
       "        text-align: right;\n",
       "    }\n",
       "</style>\n",
       "<table border=\"1\" class=\"dataframe\">\n",
       "  <thead>\n",
       "    <tr style=\"text-align: right;\">\n",
       "      <th></th>\n",
       "      <th>EUCLIDEAN_ROUNDED_DISTANCE</th>\n",
       "      <th>EDGE(Node1_ID, Node2_ID)</th>\n",
       "      <th>NODE1_COORDS</th>\n",
       "      <th>NODE2_COORDS</th>\n",
       "      <th>EUCLIDEAN_DISTANCE</th>\n",
       "    </tr>\n",
       "  </thead>\n",
       "  <tbody>\n",
       "    <tr>\n",
       "      <td>0</td>\n",
       "      <td>2</td>\n",
       "      <td>(0, 1)</td>\n",
       "      <td>(-0.21612199999999998, 51.499286)</td>\n",
       "      <td>(-1.761813, 52.483136)</td>\n",
       "      <td>1.832245</td>\n",
       "    </tr>\n",
       "    <tr>\n",
       "      <td>1</td>\n",
       "      <td>0</td>\n",
       "      <td>(0, 2)</td>\n",
       "      <td>(-0.21612199999999998, 51.499286)</td>\n",
       "      <td>(-0.27598, 51.941321)</td>\n",
       "      <td>0.446069</td>\n",
       "    </tr>\n",
       "    <tr>\n",
       "      <td>2</td>\n",
       "      <td>3</td>\n",
       "      <td>(0, 3)</td>\n",
       "      <td>(-0.21612199999999998, 51.499286)</td>\n",
       "      <td>(-2.2460720000000003, 53.479275)</td>\n",
       "      <td>2.835675</td>\n",
       "    </tr>\n",
       "    <tr>\n",
       "      <td>3</td>\n",
       "      <td>5</td>\n",
       "      <td>(0, 4)</td>\n",
       "      <td>(-0.21612199999999998, 51.499286)</td>\n",
       "      <td>(-3.013794, 56.186122999999995)</td>\n",
       "      <td>5.458334</td>\n",
       "    </tr>\n",
       "    <tr>\n",
       "      <td>4</td>\n",
       "      <td>4</td>\n",
       "      <td>(0, 5)</td>\n",
       "      <td>(-0.21612199999999998, 51.499286)</td>\n",
       "      <td>(-3.606638, 50.530432)</td>\n",
       "      <td>3.526227</td>\n",
       "    </tr>\n",
       "  </tbody>\n",
       "</table>\n",
       "</div>"
      ],
      "text/plain": [
       "   EUCLIDEAN_ROUNDED_DISTANCE EDGE(Node1_ID, Node2_ID)  \\\n",
       "0                           2                   (0, 1)   \n",
       "1                           0                   (0, 2)   \n",
       "2                           3                   (0, 3)   \n",
       "3                           5                   (0, 4)   \n",
       "4                           4                   (0, 5)   \n",
       "\n",
       "                        NODE1_COORDS                      NODE2_COORDS  \\\n",
       "0  (-0.21612199999999998, 51.499286)            (-1.761813, 52.483136)   \n",
       "1  (-0.21612199999999998, 51.499286)             (-0.27598, 51.941321)   \n",
       "2  (-0.21612199999999998, 51.499286)  (-2.2460720000000003, 53.479275)   \n",
       "3  (-0.21612199999999998, 51.499286)   (-3.013794, 56.186122999999995)   \n",
       "4  (-0.21612199999999998, 51.499286)            (-3.606638, 50.530432)   \n",
       "\n",
       "   EUCLIDEAN_DISTANCE  \n",
       "0            1.832245  \n",
       "1            0.446069  \n",
       "2            2.835675  \n",
       "3            5.458334  \n",
       "4            3.526227  "
      ]
     },
     "execution_count": 10,
     "metadata": {},
     "output_type": "execute_result"
    }
   ],
   "source": [
    "from scipy.spatial import distance\n",
    "df_edges['EUCLIDEAN_DISTANCE'] = pd.Series(list(zip(df_edges['NODE1_COORDS'], df_edges['NODE2_COORDS']))).apply(lambda x: distance.euclidean(x[0], x[1]))\n",
    "df_edges.head()"
   ]
  },
  {
   "cell_type": "markdown",
   "metadata": {},
   "source": [
    "Save as `.csv` file."
   ]
  },
  {
   "cell_type": "code",
   "execution_count": 11,
   "metadata": {},
   "outputs": [],
   "source": [
    "df_edges.to_csv('./Graph0.csv', index=False, float_format='%.6f')"
   ]
  },
  {
   "cell_type": "code",
   "execution_count": 19,
   "metadata": {},
   "outputs": [
    {
     "data": {
      "text/plain": [
       "array([0.216122, 2.      ])"
      ]
     },
     "execution_count": 19,
     "metadata": {},
     "output_type": "execute_result"
    }
   ],
   "source": [
    "np.round((0.21612199999999998, 2), decimals=6)"
   ]
  },
  {
   "cell_type": "code",
   "execution_count": null,
   "metadata": {},
   "outputs": [],
   "source": []
  }
 ],
 "metadata": {
  "kernelspec": {
   "display_name": "Python 3",
   "language": "python",
   "name": "python3"
  },
  "language_info": {
   "codemirror_mode": {
    "name": "ipython",
    "version": 3
   },
   "file_extension": ".py",
   "mimetype": "text/x-python",
   "name": "python",
   "nbconvert_exporter": "python",
   "pygments_lexer": "ipython3",
   "version": "3.7.4"
  }
 },
 "nbformat": 4,
 "nbformat_minor": 4
}
